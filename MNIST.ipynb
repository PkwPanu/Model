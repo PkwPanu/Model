{
  "nbformat": 4,
  "nbformat_minor": 0,
  "metadata": {
    "colab": {
      "provenance": [],
      "toc_visible": true,
      "authorship_tag": "ABX9TyP46IZxjgL8t+da8VujuiAL",
      "include_colab_link": true
    },
    "kernelspec": {
      "name": "python3",
      "display_name": "Python 3"
    },
    "language_info": {
      "name": "python"
    },
    "gpuClass": "standard"
  },
  "cells": [
    {
      "cell_type": "markdown",
      "metadata": {
        "id": "view-in-github",
        "colab_type": "text"
      },
      "source": [
        "<a href=\"https://colab.research.google.com/github/PkwPanu/Model/blob/main/MNIST.ipynb\" target=\"_parent\"><img src=\"https://colab.research.google.com/assets/colab-badge.svg\" alt=\"Open In Colab\"/></a>"
      ]
    },
    {
      "cell_type": "code",
      "execution_count": null,
      "metadata": {
        "id": "vcVrdmJWWSev"
      },
      "outputs": [],
      "source": [
        "import tensorflow as tf \n",
        "import matplotlib.pyplot as plt\n",
        "import numpy as np\n",
        "\n",
        "(Xtrain, Ytrain), (Xtest,Ytest) = tf.keras.datasets.mnist.load_data()"
      ]
    },
    {
      "cell_type": "code",
      "source": [
        "!nvidia-smi"
      ],
      "metadata": {
        "colab": {
          "base_uri": "https://localhost:8080/"
        },
        "id": "xHJ2_Pign8Sj",
        "outputId": "f8fbf725-59ef-4bd0-e6b8-b4995128d4d7"
      },
      "execution_count": null,
      "outputs": [
        {
          "output_type": "stream",
          "name": "stdout",
          "text": [
            "NVIDIA-SMI has failed because it couldn't communicate with the NVIDIA driver. Make sure that the latest NVIDIA driver is installed and running.\n",
            "\n"
          ]
        }
      ]
    },
    {
      "cell_type": "code",
      "source": [
        "print(Xtrain.shape,'\\n',Xtrain.dtype)"
      ],
      "metadata": {
        "colab": {
          "base_uri": "https://localhost:8080/"
        },
        "id": "kInKj16upGFv",
        "outputId": "0b6c0aa0-44ce-4b64-b65f-e9633d5285a3"
      },
      "execution_count": null,
      "outputs": [
        {
          "output_type": "stream",
          "name": "stdout",
          "text": [
            "(60000, 28, 28) \n",
            " uint8\n"
          ]
        }
      ]
    },
    {
      "cell_type": "code",
      "source": [
        "plt.imshow(Xtrain[0],cmap='gray')\n",
        "plt.show()\n",
        "print(Ytrain[0])"
      ],
      "metadata": {
        "colab": {
          "base_uri": "https://localhost:8080/",
          "height": 282
        },
        "id": "rqojZ4r3oC2f",
        "outputId": "a565e076-d13d-45a0-9a75-5e8d6a764322"
      },
      "execution_count": null,
      "outputs": [
        {
          "output_type": "display_data",
          "data": {
            "text/plain": [
              "<Figure size 432x288 with 1 Axes>"
            ],
            "image/png": "[encoded data removed]"
          },
          "metadata": {
            "needs_background": "light"
          }
        },
        {
          "output_type": "stream",
          "name": "stdout",
          "text": [
            "5\n"
          ]
        }
      ]
    },
    {
      "cell_type": "markdown",
      "source": [
        "# CNN"
      ],
      "metadata": {
        "id": "4kNxOXb3rbZ_"
      }
    },
    {
      "cell_type": "code",
      "source": [
        "def onehot(Y,nclass=10):\n",
        "  \n",
        "  relation = np.zeros((Y.shape[0], nclass))\n",
        "  for i, y in enumerate(Y):\n",
        "    relation[i, Y[i]] = 1\n",
        "  return relation\n",
        "\n",
        "def my_onehot_encoder(Y):\n",
        "  Y= [str(i) for i in Y]\n",
        "  relation = {}\n",
        "  x=np.unique(Y)\n",
        "\n",
        "  for i, y in enumerate(np.unique(Y)):\n",
        "    relation[y] = i\n",
        "    \n",
        "  output=np.zeros([len(Y),len(x)])\n",
        "  for i, y in enumerate(Y):\n",
        "    num=relation[y]\n",
        "    output[i,num]=1\n",
        "\n",
        "  return output"
      ],
      "metadata": {
        "id": "h3bSPk7-q3W3"
      },
      "execution_count": null,
      "outputs": []
    },
    {
      "cell_type": "code",
      "source": [
        "a=['a','b','a',1,0.5,'1',2,'a']\n",
        "b=my_onehot_encoder(a)"
      ],
      "metadata": {
        "id": "Vzo0fTzvuxow"
      },
      "execution_count": null,
      "outputs": []
    },
    {
      "cell_type": "code",
      "source": [
        "input_shape = (4,28, 28, 1)\n",
        "x = tf.random.normal(input_shape)\n",
        "x = tf.keras.layers.Conv2D(3,3,activation ='relu',input_shape=input_shape[1:])(x)\n",
        "print(x.shape)"
      ],
      "metadata": {
        "id": "n-m13TJtBMJC",
        "colab": {
          "base_uri": "https://localhost:8080/"
        },
        "outputId": "84731401-db1f-42d3-d1b4-9bde2a20aec2"
      },
      "execution_count": null,
      "outputs": [
        {
          "output_type": "stream",
          "name": "stdout",
          "text": [
            "(4, 26, 26, 3)\n"
          ]
        }
      ]
    },
    {
      "cell_type": "code",
      "source": [
        "# Fully connected model\n",
        "Xtrain2=Xtrain.reshape(-1,28*28,1)\n",
        "Xtest2=Xtest.reshape(-1,28*28,1)\n",
        "Ytrain2=onehot(Ytrain)\n",
        "Ytest2=onehot(Ytest)\n",
        "\n",
        "d_in = (Xtrain2.shape[1],)\n",
        "model2= tf.keras.Sequential()\n",
        "model2.add(tf.keras.layers.Dense(200,input_shape=d_in,activation='relu'))\n",
        "model2.add(tf.keras.layers.Dense(200,activation='relu'))\n",
        "model2.add(tf.keras.layers.Dense(10,activation='softmax'))\n",
        "model2.compile(loss=tf.keras.losses.MeanSquaredError(),optimizer=tf.keras.optimizers.Adam(lr=0.001))\n",
        "model2.summary()\n",
        "#model.fit((Xtrain2 /255.),Ytrain2, epochs=50, validation_data=(Xtest2/255., Ytest2))\n"
      ],
      "metadata": {
        "colab": {
          "base_uri": "https://localhost:8080/"
        },
        "id": "l0XTcMoAFVMf",
        "outputId": "bc27dc35-8f11-4130-d8e4-f20ec1278fba"
      },
      "execution_count": null,
      "outputs": [
        {
          "output_type": "stream",
          "name": "stderr",
          "text": [
            "WARNING:absl:`lr` is deprecated, please use `learning_rate` instead, or use the legacy optimizer, e.g.,tf.keras.optimizers.legacy.Adam.\n"
          ]
        },
        {
          "output_type": "stream",
          "name": "stdout",
          "text": [
            "Model: \"sequential\"\n",
            "_________________________________________________________________\n",
            " Layer (type)                Output Shape              Param #   \n",
            "=================================================================\n",
            " dense (Dense)               (None, 200)               157000    \n",
            "                                                                 \n",
            " dense_1 (Dense)             (None, 200)               40200     \n",
            "                                                                 \n",
            " dense_2 (Dense)             (None, 10)                2010      \n",
            "                                                                 \n",
            "=================================================================\n",
            "Total params: 199,210\n",
            "Trainable params: 199,210\n",
            "Non-trainable params: 0\n",
            "_________________________________________________________________\n"
          ]
        }
      ]
    },
    {
      "cell_type": "code",
      "source": [],
      "metadata": {
        "id": "QcpQaCv1h--w"
      },
      "execution_count": null,
      "outputs": []
    },
    {
      "cell_type": "code",
      "source": [
        "model2.fit((Xtrain2 /255.),Ytrain2, epochs=20, validation_data=(Xtest2/255., Ytest2))"
      ],
      "metadata": {
        "colab": {
          "base_uri": "https://localhost:8080/"
        },
        "id": "rv8hyFNqURwT",
        "outputId": "ac9e97d4-3507-4fec-8a1e-f5c8193a8d1f"
      },
      "execution_count": null,
      "outputs": [
        {
          "output_type": "stream",
          "name": "stdout",
          "text": [
            "Epoch 1/20\n",
            "1875/1875 [==============================] - 16s 8ms/step - loss: 0.0105 - val_loss: 0.0063\n",
            "Epoch 2/20\n",
            "1875/1875 [==============================] - 15s 8ms/step - loss: 0.0051 - val_loss: 0.0058\n",
            "Epoch 3/20\n",
            "1875/1875 [==============================] - 14s 8ms/step - loss: 0.0038 - val_loss: 0.0048\n",
            "Epoch 4/20\n",
            "1875/1875 [==============================] - 7s 4ms/step - loss: 0.0032 - val_loss: 0.0036\n",
            "Epoch 5/20\n",
            "1875/1875 [==============================] - 8s 4ms/step - loss: 0.0027 - val_loss: 0.0036\n",
            "Epoch 6/20\n",
            "1875/1875 [==============================] - 8s 4ms/step - loss: 0.0023 - val_loss: 0.0039\n",
            "Epoch 7/20\n",
            "1875/1875 [==============================] - 7s 4ms/step - loss: 0.0022 - val_loss: 0.0032\n",
            "Epoch 8/20\n",
            "1875/1875 [==============================] - 8s 4ms/step - loss: 0.0020 - val_loss: 0.0034\n",
            "Epoch 9/20\n",
            "1875/1875 [==============================] - 8s 4ms/step - loss: 0.0018 - val_loss: 0.0035\n",
            "Epoch 10/20\n",
            "1875/1875 [==============================] - 8s 4ms/step - loss: 0.0016 - val_loss: 0.0047\n",
            "Epoch 11/20\n",
            "1875/1875 [==============================] - 8s 5ms/step - loss: 0.0017 - val_loss: 0.0035\n",
            "Epoch 12/20\n",
            "1875/1875 [==============================] - 8s 4ms/step - loss: 0.0016 - val_loss: 0.0034\n",
            "Epoch 13/20\n",
            "1875/1875 [==============================] - 7s 4ms/step - loss: 0.0015 - val_loss: 0.0034\n",
            "Epoch 14/20\n",
            "1875/1875 [==============================] - 8s 4ms/step - loss: 0.0015 - val_loss: 0.0031\n",
            "Epoch 15/20\n",
            "1875/1875 [==============================] - 8s 5ms/step - loss: 0.0014 - val_loss: 0.0046\n",
            "Epoch 16/20\n",
            "1875/1875 [==============================] - 7s 4ms/step - loss: 0.0013 - val_loss: 0.0044\n",
            "Epoch 17/20\n",
            "1875/1875 [==============================] - 8s 4ms/step - loss: 0.0014 - val_loss: 0.0037\n",
            "Epoch 18/20\n",
            "1875/1875 [==============================] - 8s 4ms/step - loss: 0.0014 - val_loss: 0.0035\n",
            "Epoch 19/20\n",
            "1875/1875 [==============================] - 8s 4ms/step - loss: 0.0013 - val_loss: 0.0039\n",
            "Epoch 20/20\n",
            "1875/1875 [==============================] - 8s 4ms/step - loss: 0.0013 - val_loss: 0.0035\n"
          ]
        },
        {
          "output_type": "execute_result",
          "data": {
            "text/plain": [
              "<keras.callbacks.History at 0x7fd06a192820>"
            ]
          },
          "metadata": {},
          "execution_count": 9
        }
      ]
    },
    {
      "cell_type": "code",
      "source": [
        "Xtrain1=Xtrain.reshape(-1,28,28,1)\n",
        "Xtest1=Xtest.reshape(-1,28,28,1)\n",
        "Ytrain1=onehot(Ytrain).reshape(-1,1,1,10)\n",
        "Ytest1=onehot(Ytest).reshape(-1,1,1,10)\n",
        "\n",
        "input1 = tf.keras.Input(shape=(28,28,1))\n",
        "x = tf.keras.layers.Conv2D(20,4,activation ='relu')(input1)\n",
        "x = tf.keras.layers.Conv2D(15,25,activation ='relu')(x)\n",
        "output_tensor = tf.keras.layers.Dense(10,activation ='Softmax')(x)\n",
        "model1 = tf.keras.Model([input1],output_tensor)\n",
        "\n",
        "model1.compile(loss=tf.keras.losses.MeanSquaredError(),optimizer=tf.keras.optimizers.Adam(lr=0.001))\n",
        "model1.summary()"
      ],
      "metadata": {
        "colab": {
          "base_uri": "https://localhost:8080/"
        },
        "id": "9UHZeSsUEyNR",
        "outputId": "834ae537-d8d0-4f69-dd22-b744a998620b"
      },
      "execution_count": null,
      "outputs": [
        {
          "output_type": "stream",
          "name": "stderr",
          "text": [
            "WARNING:absl:`lr` is deprecated, please use `learning_rate` instead, or use the legacy optimizer, e.g.,tf.keras.optimizers.legacy.Adam.\n"
          ]
        },
        {
          "output_type": "stream",
          "name": "stdout",
          "text": [
            "Model: \"model\"\n",
            "_________________________________________________________________\n",
            " Layer (type)                Output Shape              Param #   \n",
            "=================================================================\n",
            " input_1 (InputLayer)        [(None, 28, 28, 1)]       0         \n",
            "                                                                 \n",
            " conv2d_1 (Conv2D)           (None, 25, 25, 20)        340       \n",
            "                                                                 \n",
            " conv2d_2 (Conv2D)           (None, 1, 1, 15)          187515    \n",
            "                                                                 \n",
            " dense_3 (Dense)             (None, 1, 1, 10)          160       \n",
            "                                                                 \n",
            "=================================================================\n",
            "Total params: 188,015\n",
            "Trainable params: 188,015\n",
            "Non-trainable params: 0\n",
            "_________________________________________________________________\n"
          ]
        }
      ]
    },
    {
      "cell_type": "code",
      "source": [
        "model1.fit((Xtrain1 /255.),Ytrain1, epochs=20, validation_data=(Xtest1/255., Ytest1))"
      ],
      "metadata": {
        "colab": {
          "base_uri": "https://localhost:8080/"
        },
        "id": "AJFfwGkQOm8u",
        "outputId": "1d3f90e4-758d-4b95-f00e-d784b1b3800a"
      },
      "execution_count": null,
      "outputs": [
        {
          "output_type": "stream",
          "name": "stdout",
          "text": [
            "Epoch 1/20\n",
            "1875/1875 [==============================] - 35s 19ms/step - loss: 0.0103 - val_loss: 0.0042\n",
            "Epoch 2/20\n",
            "1875/1875 [==============================] - 34s 18ms/step - loss: 0.0040 - val_loss: 0.0037\n",
            "Epoch 3/20\n",
            "1875/1875 [==============================] - 34s 18ms/step - loss: 0.0029 - val_loss: 0.0033\n",
            "Epoch 4/20\n",
            "1875/1875 [==============================] - 34s 18ms/step - loss: 0.0024 - val_loss: 0.0031\n",
            "Epoch 5/20\n",
            "1875/1875 [==============================] - 36s 19ms/step - loss: 0.0019 - val_loss: 0.0028\n",
            "Epoch 6/20\n",
            "1875/1875 [==============================] - 34s 18ms/step - loss: 0.0016 - val_loss: 0.0031\n",
            "Epoch 7/20\n",
            "1875/1875 [==============================] - 34s 18ms/step - loss: 0.0013 - val_loss: 0.0028\n",
            "Epoch 8/20\n",
            "1875/1875 [==============================] - 34s 18ms/step - loss: 0.0011 - val_loss: 0.0028\n",
            "Epoch 9/20\n",
            "1875/1875 [==============================] - 34s 18ms/step - loss: 9.9810e-04 - val_loss: 0.0029\n",
            "Epoch 10/20\n",
            "1875/1875 [==============================] - 35s 18ms/step - loss: 8.7519e-04 - val_loss: 0.0029\n",
            "Epoch 11/20\n",
            "1875/1875 [==============================] - 34s 18ms/step - loss: 8.1052e-04 - val_loss: 0.0030\n",
            "Epoch 12/20\n",
            "1875/1875 [==============================] - 39s 21ms/step - loss: 7.0889e-04 - val_loss: 0.0028\n",
            "Epoch 13/20\n",
            "1875/1875 [==============================] - 34s 18ms/step - loss: 7.5211e-04 - val_loss: 0.0032\n",
            "Epoch 14/20\n",
            "1875/1875 [==============================] - 34s 18ms/step - loss: 6.1608e-04 - val_loss: 0.0029\n",
            "Epoch 15/20\n",
            "1875/1875 [==============================] - 34s 18ms/step - loss: 5.6307e-04 - val_loss: 0.0025\n",
            "Epoch 16/20\n",
            "1875/1875 [==============================] - 34s 18ms/step - loss: 5.9173e-04 - val_loss: 0.0029\n",
            "Epoch 17/20\n",
            "1875/1875 [==============================] - 34s 18ms/step - loss: 5.0862e-04 - val_loss: 0.0029\n",
            "Epoch 18/20\n",
            "1875/1875 [==============================] - 34s 18ms/step - loss: 5.0034e-04 - val_loss: 0.0031\n",
            "Epoch 19/20\n",
            "1875/1875 [==============================] - 34s 18ms/step - loss: 5.5172e-04 - val_loss: 0.0028\n",
            "Epoch 20/20\n",
            "1875/1875 [==============================] - 34s 18ms/step - loss: 4.7562e-04 - val_loss: 0.0027\n"
          ]
        },
        {
          "output_type": "execute_result",
          "data": {
            "text/plain": [
              "<keras.callbacks.History at 0x7fd06991a970>"
            ]
          },
          "metadata": {},
          "execution_count": 11
        }
      ]
    },
    {
      "cell_type": "code",
      "source": [
        "#model3\n",
        "d_in = (Xtrain2.shape[1],)\n",
        "model3= tf.keras.Sequential()\n",
        "model3.add(tf.keras.layers.Dense(60,input_shape=d_in,activation='relu'))\n",
        "model3.add(tf.keras.layers.Dense(50,activation='relu'))\n",
        "\n",
        "model3.add(tf.keras.layers.Dense(10,activation='softmax'))\n",
        "model3.compile(loss=tf.keras.losses.MeanSquaredError(),optimizer=tf.keras.optimizers.Adam(lr=0.001))\n",
        "model3.summary()\n",
        "\n",
        "#model4\n",
        "input1 = tf.keras.Input(shape=(28,28,1))\n",
        "x = tf.keras.layers.Conv2D(8,4,activation ='relu')(input1)\n",
        "output_tensor = tf.keras.layers.Conv2D(10,25,activation ='Softmax')(x)\n",
        "#output_tensor = tf.keras.layers.Dense(10,activation ='Softmax')(x)\n",
        "model4 = tf.keras.Model([input1],output_tensor)\n",
        "\n",
        "model4.compile(loss=tf.keras.losses.MeanSquaredError(),optimizer=tf.keras.optimizers.Adam(lr=0.001))\n",
        "model4.summary()"
      ],
      "metadata": {
        "colab": {
          "base_uri": "https://localhost:8080/"
        },
        "id": "urVRV_Rbh_1-",
        "outputId": "c2cdcd2d-9490-40cd-ea80-9b4552b8123b"
      },
      "execution_count": null,
      "outputs": [
        {
          "output_type": "stream",
          "name": "stderr",
          "text": [
            "WARNING:absl:`lr` is deprecated, please use `learning_rate` instead, or use the legacy optimizer, e.g.,tf.keras.optimizers.legacy.Adam.\n"
          ]
        },
        {
          "output_type": "stream",
          "name": "stdout",
          "text": [
            "Model: \"sequential_12\"\n",
            "_________________________________________________________________\n",
            " Layer (type)                Output Shape              Param #   \n",
            "=================================================================\n",
            " dense_45 (Dense)            (None, 60)                47100     \n",
            "                                                                 \n",
            " dense_46 (Dense)            (None, 50)                3050      \n",
            "                                                                 \n",
            " dense_47 (Dense)            (None, 10)                510       \n",
            "                                                                 \n",
            "=================================================================\n",
            "Total params: 50,660\n",
            "Trainable params: 50,660\n",
            "Non-trainable params: 0\n",
            "_________________________________________________________________\n"
          ]
        },
        {
          "output_type": "stream",
          "name": "stderr",
          "text": [
            "WARNING:absl:`lr` is deprecated, please use `learning_rate` instead, or use the legacy optimizer, e.g.,tf.keras.optimizers.legacy.Adam.\n"
          ]
        },
        {
          "output_type": "stream",
          "name": "stdout",
          "text": [
            "Model: \"model_12\"\n",
            "_________________________________________________________________\n",
            " Layer (type)                Output Shape              Param #   \n",
            "=================================================================\n",
            " input_13 (InputLayer)       [(None, 28, 28, 1)]       0         \n",
            "                                                                 \n",
            " conv2d_25 (Conv2D)          (None, 25, 25, 8)         136       \n",
            "                                                                 \n",
            " conv2d_26 (Conv2D)          (None, 1, 1, 10)          50010     \n",
            "                                                                 \n",
            "=================================================================\n",
            "Total params: 50,146\n",
            "Trainable params: 50,146\n",
            "Non-trainable params: 0\n",
            "_________________________________________________________________\n"
          ]
        }
      ]
    },
    {
      "cell_type": "code",
      "source": [
        "model3.fit((Xtrain2 /255.),Ytrain2, epochs=20, validation_data=(Xtest2/255., Ytest2))\n",
        "model4.fit((Xtrain1 /255.),Ytrain1, epochs=20, validation_data=(Xtest1/255., Ytest1))"
      ],
      "metadata": {
        "colab": {
          "base_uri": "https://localhost:8080/"
        },
        "id": "V-PmRynSibiD",
        "outputId": "624d8e26-b1bc-4cc5-b181-ea5654a6f8cc"
      },
      "execution_count": null,
      "outputs": [
        {
          "output_type": "stream",
          "name": "stdout",
          "text": [
            "Epoch 1/20\n",
            "1875/1875 [==============================] - 5s 2ms/step - loss: 0.0130 - val_loss: 0.0070\n",
            "Epoch 2/20\n",
            "1875/1875 [==============================] - 4s 2ms/step - loss: 0.0064 - val_loss: 0.0054\n",
            "Epoch 3/20\n",
            "1875/1875 [==============================] - 4s 2ms/step - loss: 0.0049 - val_loss: 0.0052\n",
            "Epoch 4/20\n",
            "1875/1875 [==============================] - 4s 2ms/step - loss: 0.0042 - val_loss: 0.0050\n",
            "Epoch 5/20\n",
            "1875/1875 [==============================] - 5s 3ms/step - loss: 0.0037 - val_loss: 0.0042\n",
            "Epoch 6/20\n",
            "1875/1875 [==============================] - 4s 2ms/step - loss: 0.0031 - val_loss: 0.0046\n",
            "Epoch 7/20\n",
            "1875/1875 [==============================] - 5s 3ms/step - loss: 0.0028 - val_loss: 0.0046\n",
            "Epoch 8/20\n",
            "1875/1875 [==============================] - 5s 2ms/step - loss: 0.0026 - val_loss: 0.0045\n",
            "Epoch 9/20\n",
            "1875/1875 [==============================] - 6s 3ms/step - loss: 0.0023 - val_loss: 0.0044\n",
            "Epoch 10/20\n",
            "1875/1875 [==============================] - 4s 2ms/step - loss: 0.0022 - val_loss: 0.0040\n",
            "Epoch 11/20\n",
            "1875/1875 [==============================] - 4s 2ms/step - loss: 0.0021 - val_loss: 0.0040\n",
            "Epoch 12/20\n",
            "1875/1875 [==============================] - 4s 2ms/step - loss: 0.0019 - val_loss: 0.0042\n",
            "Epoch 13/20\n",
            "1875/1875 [==============================] - 4s 2ms/step - loss: 0.0019 - val_loss: 0.0051\n",
            "Epoch 14/20\n",
            "1875/1875 [==============================] - 4s 2ms/step - loss: 0.0018 - val_loss: 0.0048\n",
            "Epoch 15/20\n",
            "1875/1875 [==============================] - 4s 2ms/step - loss: 0.0016 - val_loss: 0.0041\n",
            "Epoch 16/20\n",
            "1875/1875 [==============================] - 4s 2ms/step - loss: 0.0016 - val_loss: 0.0038\n",
            "Epoch 17/20\n",
            "1875/1875 [==============================] - 6s 3ms/step - loss: 0.0015 - val_loss: 0.0042\n",
            "Epoch 18/20\n",
            "1875/1875 [==============================] - 5s 3ms/step - loss: 0.0015 - val_loss: 0.0040\n",
            "Epoch 19/20\n",
            "1875/1875 [==============================] - 4s 2ms/step - loss: 0.0014 - val_loss: 0.0043\n",
            "Epoch 20/20\n",
            "1875/1875 [==============================] - 4s 2ms/step - loss: 0.0014 - val_loss: 0.0045\n",
            "Epoch 1/20\n",
            "1875/1875 [==============================] - 18s 9ms/step - loss: 0.0097 - val_loss: 0.0050\n",
            "Epoch 2/20\n",
            "1875/1875 [==============================] - 17s 9ms/step - loss: 0.0045 - val_loss: 0.0040\n",
            "Epoch 3/20\n",
            "1875/1875 [==============================] - 17s 9ms/step - loss: 0.0035 - val_loss: 0.0035\n",
            "Epoch 4/20\n",
            "1875/1875 [==============================] - 16s 9ms/step - loss: 0.0030 - val_loss: 0.0035\n",
            "Epoch 5/20\n",
            "1875/1875 [==============================] - 17s 9ms/step - loss: 0.0026 - val_loss: 0.0028\n",
            "Epoch 6/20\n",
            "1875/1875 [==============================] - 17s 9ms/step - loss: 0.0022 - val_loss: 0.0030\n",
            "Epoch 7/20\n",
            "1875/1875 [==============================] - 18s 10ms/step - loss: 0.0020 - val_loss: 0.0029\n",
            "Epoch 8/20\n",
            "1875/1875 [==============================] - 17s 9ms/step - loss: 0.0018 - val_loss: 0.0028\n",
            "Epoch 9/20\n",
            "1875/1875 [==============================] - 17s 9ms/step - loss: 0.0016 - val_loss: 0.0027\n",
            "Epoch 10/20\n",
            "1875/1875 [==============================] - 17s 9ms/step - loss: 0.0015 - val_loss: 0.0026\n",
            "Epoch 11/20\n",
            "1875/1875 [==============================] - 16s 9ms/step - loss: 0.0013 - val_loss: 0.0027\n",
            "Epoch 12/20\n",
            "1875/1875 [==============================] - 17s 9ms/step - loss: 0.0012 - val_loss: 0.0029\n",
            "Epoch 13/20\n",
            "1875/1875 [==============================] - 16s 9ms/step - loss: 0.0010 - val_loss: 0.0028\n",
            "Epoch 14/20\n",
            "1875/1875 [==============================] - 18s 10ms/step - loss: 0.0010 - val_loss: 0.0027\n",
            "Epoch 15/20\n",
            "1875/1875 [==============================] - 16s 9ms/step - loss: 8.9358e-04 - val_loss: 0.0030\n",
            "Epoch 16/20\n",
            "1875/1875 [==============================] - 17s 9ms/step - loss: 8.9111e-04 - val_loss: 0.0028\n",
            "Epoch 17/20\n",
            "1875/1875 [==============================] - 17s 9ms/step - loss: 8.3433e-04 - val_loss: 0.0033\n",
            "Epoch 18/20\n",
            "1875/1875 [==============================] - 17s 9ms/step - loss: 7.7861e-04 - val_loss: 0.0032\n",
            "Epoch 19/20\n",
            "1875/1875 [==============================] - 17s 9ms/step - loss: 7.2785e-04 - val_loss: 0.0028\n",
            "Epoch 20/20\n",
            "1875/1875 [==============================] - 16s 9ms/step - loss: 7.3267e-04 - val_loss: 0.0028\n"
          ]
        },
        {
          "output_type": "execute_result",
          "data": {
            "text/plain": [
              "<keras.callbacks.History at 0x7fd06a28ce20>"
            ]
          },
          "metadata": {},
          "execution_count": 28
        }
      ]
    },
    {
      "cell_type": "code",
      "source": [
        "#accuracy CNN model VS Fully connected model (around 50,000 parameters in both model with 20 epochs trained)\n",
        "\n",
        "Y_predict=np.argmax(model3.predict(Xtest2/255.,verbose=0),axis=1)\n",
        "#Y_ture=(np.argmax(Ytest2,axis=1))\n",
        "acc=  sum(Y_predict==Ytest)/len(Ytest)\n",
        "print('DNN :',acc)\n",
        "\n",
        "Y_predict=np.argmax(model4.predict(Xtest1/255.,verbose=0).reshape(-1,10),axis=1)\n",
        "#Y_ture=(np.argmax(Ytest1.reshape(-1,10),axis=1))\n",
        "acc =  sum(Y_predict==Ytest)/len(Ytest)\n",
        "print('CNN :',acc)"
      ],
      "metadata": {
        "colab": {
          "base_uri": "https://localhost:8080/"
        },
        "id": "4gWYUE4mjVuC",
        "outputId": "ac8bf07c-f06b-46e6-aae8-6c5724d84db7"
      },
      "execution_count": null,
      "outputs": [
        {
          "output_type": "stream",
          "name": "stdout",
          "text": [
            "DNN : 0.9725\n",
            "CNN : 0.9827\n"
          ]
        }
      ]
    },
    {
      "cell_type": "code",
      "source": [
        "#accuracy CNN model VS Fully connected model (around 200,000 parameters in both model with 20 epochs trained)\n",
        "\n",
        "Y_predict=np.argmax(model2.predict(Xtest2/255.,verbose=0),axis=1)\n",
        "#Y_ture=(np.argmax(Ytest2,axis=1))\n",
        "acc=  sum(Y_predict==Ytest)/len(Ytest)\n",
        "print('DNN :',acc)\n",
        "\n",
        "Y_predict=np.argmax(model1.predict(Xtest1/255.,verbose=0).reshape(-1,10),axis=1)\n",
        "#Y_ture=(np.argmax(Ytest1.reshape(-1,10),axis=1))\n",
        "acc =  sum(Y_predict==Ytest)/len(Ytest)\n",
        "print('CNN :',acc)\n"
      ],
      "metadata": {
        "colab": {
          "base_uri": "https://localhost:8080/"
        },
        "id": "iDSKRj6UJZdF",
        "outputId": "cbc9e443-a50b-4792-dc46-69b85bee7ea5"
      },
      "execution_count": null,
      "outputs": [
        {
          "output_type": "stream",
          "name": "stdout",
          "text": [
            "DNN : 0.9805\n",
            "CNN : 0.9834\n"
          ]
        }
      ]
    }
  ]
}