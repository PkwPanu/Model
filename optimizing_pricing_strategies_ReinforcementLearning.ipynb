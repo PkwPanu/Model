{
  "nbformat": 4,
  "nbformat_minor": 0,
  "metadata": {
    "colab": {
      "provenance": [],
      "authorship_tag": "ABX9TyPmO7EA5MpxhEE+J7b//gLM",
      "include_colab_link": true
    },
    "kernelspec": {
      "name": "python3",
      "display_name": "Python 3"
    },
    "language_info": {
      "name": "python"
    }
  },
  "cells": [
    {
      "cell_type": "markdown",
      "metadata": {
        "id": "view-in-github",
        "colab_type": "text"
      },
      "source": [
        "<a href=\"https://colab.research.google.com/github/PkwPanu/Model/blob/main/optimizing_pricing_strategies_ReinforcementLearning.ipynb\" target=\"_parent\"><img src=\"https://colab.research.google.com/assets/colab-badge.svg\" alt=\"Open In Colab\"/></a>"
      ]
    },
    {
      "cell_type": "code",
      "execution_count": null,
      "metadata": {
        "id": "3qgvcbQWb-XC"
      },
      "outputs": [],
      "source": [
        "import numpy as np\n",
        "\n",
        "# Define the state space\n",
        "states = ['low_season', 'high_season', 'sunny_day', 'rainy_day', 'popular_attraction', 'less_popular_attraction']\n",
        "num_states = len(states)\n",
        "\n",
        "# Define the action space\n",
        "actions = ['increase_price', 'decrease_price', 'maintain_price']\n",
        "num_actions = len(actions)\n",
        "\n",
        "# Define the reward function\n",
        "def get_reward(state, action):\n",
        "    # This is just an example function - the actual reward function would depend on the specific problem at hand\n",
        "    if state == 'high_season' and action == 'decrease_price':\n",
        "        return -1\n",
        "    elif state == 'low_season' and action == 'increase_price':\n",
        "        return -1\n",
        "    elif state == 'rainy_day':\n",
        "        return 0.5\n",
        "    else:\n",
        "        return 1\n",
        "\n",
        "# Define the Q-table\n",
        "q_table = np.zeros((num_states, num_actions))\n",
        "\n",
        "# Define the hyperparameters\n",
        "alpha = 0.1 # learning rate\n",
        "gamma = 0.9 # discount factor\n",
        "epsilon = 0.1 # exploration rate\n",
        "\n",
        "# Define the epsilon-greedy policy\n",
        "def epsilon_greedy_policy(state):\n",
        "    if np.random.uniform(0, 1) < epsilon:\n",
        "        # Explore\n",
        "        action = np.random.choice(range(num_actions))\n",
        "    else:\n",
        "        # Exploit\n",
        "        q_values = q_table[state, :]\n",
        "        max_q_value = np.max(q_values)\n",
        "        actions_with_max_q_value = np.where(q_values == max_q_value)[0]\n",
        "        action = np.random.choice(actions_with_max_q_value)\n",
        "    return action\n",
        "\n",
        "# Train the Q-learning agent\n",
        "num_episodes = 1000\n",
        "for episode in range(num_episodes):\n",
        "    state = np.random.randint(0, num_states)\n",
        "    done = False\n",
        "    while not done:\n",
        "        action = epsilon_greedy_policy(state)\n",
        "        print(state,action)\n",
        "        reward = get_reward(states[state], actions[action])\n",
        "        next_state = np.random.randint(0, num_states)\n",
        "        q_value = q_table[state, action]\n",
        "        next_q_values = q_table[next_state, :]\n",
        "        max_next_q_value = np.max(next_q_values)\n",
        "        td_target = reward + gamma * max_next_q_value\n",
        "        td_error = td_target - q_value\n",
        "        q_table[state, action] += alpha * td_error\n",
        "        state = next_state\n",
        "        if state == num_states - 1:\n",
        "            done = True\n",
        "\n",
        "# Use the learned Q-table to make pricing decisions\n",
        "state = np.random.randint(0, num_states)\n",
        "action = np.argmax(q_table[state, :])\n",
        "print(\"State: \", states[state])\n",
        "print(\"Action: \", actions[action])"
      ]
    },
    {
      "cell_type": "code",
      "source": [
        "# Use the learned Q-table to make pricing decisions\n",
        "state = np.random.randint(0, num_states)\n",
        "action = np.argmax(q_table[state, :])\n",
        "print(\"State: \", states[state])\n",
        "print(\"Action: \", actions[action])"
      ],
      "metadata": {
        "colab": {
          "base_uri": "https://localhost:8080/"
        },
        "id": "BP1jRP2yPpCg",
        "outputId": "27981749-42a8-4bdc-9d81-a12afda07c42"
      },
      "execution_count": null,
      "outputs": [
        {
          "output_type": "stream",
          "name": "stdout",
          "text": [
            "State:  sunny_day\n",
            "Action:  decrease_price\n"
          ]
        }
      ]
    }
  ]
}