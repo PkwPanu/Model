{
  "nbformat": 4,
  "nbformat_minor": 0,
  "metadata": {
    "colab": {
      "provenance": [],
      "authorship_tag": "ABX9TyMKPz7b46yETJJDRwkYWUJK",
      "include_colab_link": true
    },
    "kernelspec": {
      "name": "python3",
      "display_name": "Python 3"
    },
    "language_info": {
      "name": "python"
    }
  },
  "cells": [
    {
      "cell_type": "markdown",
      "metadata": {
        "id": "view-in-github",
        "colab_type": "text"
      },
      "source": [
        "<a href=\"https://colab.research.google.com/github/PkwPanu/Model/blob/main/ReinforcementLearning.ipynb\" target=\"_parent\"><img src=\"https://colab.research.google.com/assets/colab-badge.svg\" alt=\"Open In Colab\"/></a>"
      ]
    },
    {
      "cell_type": "code",
      "execution_count": null,
      "metadata": {
        "id": "3qgvcbQWb-XC"
      },
      "outputs": [],
      "source": [
        "import numpy as np\n",
        "\n",
        "# Define the state space\n",
        "states = ['low_season', 'high_season', 'sunny_day', 'rainy_day', 'popular_attraction', 'less_popular_attraction']\n",
        "num_states = len(states)\n",
        "\n",
        "# Define the action space\n",
        "actions = ['increase_price', 'decrease_price', 'maintain_price']\n",
        "num_actions = len(actions)\n",
        "\n",
        "# Define the reward function\n",
        "def get_reward(state, action):\n",
        "    # This is just an example function - the actual reward function would depend on the specific problem at hand\n",
        "    if state == 'high_season' and action == 'decrease_price':\n",
        "        return -1\n",
        "    elif state == 'low_season' and action == 'increase_price':\n",
        "        return -1\n",
        "    elif state == 'rainy_day':\n",
        "        return 0.5\n",
        "    else:\n",
        "        return 1\n",
        "\n",
        "# Define the Q-table\n",
        "q_table = np.zeros((num_states, num_actions))\n",
        "\n",
        "# Define the hyperparameters\n",
        "alpha = 0.1 # learning rate\n",
        "gamma = 0.9 # discount factor\n",
        "epsilon = 0.1 # exploration rate\n",
        "\n",
        "# Define the epsilon-greedy policy\n",
        "def epsilon_greedy_policy(state):\n",
        "    if np.random.uniform(0, 1) < epsilon:\n",
        "        # Explore\n",
        "        action = np.random.choice(range(num_actions))\n",
        "    else:\n",
        "        # Exploit\n",
        "        q_values = q_table[state, :]\n",
        "        max_q_value = np.max(q_values)\n",
        "        actions_with_max_q_value = np.where(q_values == max_q_value)[0]\n",
        "        action = np.random.choice(actions_with_max_q_value)\n",
        "    return action\n",
        "\n",
        "# Train the Q-learning agent\n",
        "num_episodes = 1000\n",
        "for episode in range(num_episodes):\n",
        "    state = np.random.randint(0, num_states)\n",
        "    done = False\n",
        "    while not done:\n",
        "        action = epsilon_greedy_policy(state)\n",
        "        print(state,action)\n",
        "        reward = get_reward(states[state], actions[action])\n",
        "        next_state = np.random.randint(0, num_states)\n",
        "        q_value = q_table[state, action]\n",
        "        next_q_values = q_table[next_state, :]\n",
        "        max_next_q_value = np.max(next_q_values)\n",
        "        td_target = reward + gamma * max_next_q_value\n",
        "        td_error = td_target - q_value\n",
        "        q_table[state, action] += alpha * td_error\n",
        "        state = next_state\n",
        "        if state == num_states - 1:\n",
        "            done = True\n",
        "\n",
        "# Use the learned Q-table to make pricing decisions\n",
        "state = np.random.randint(0, num_states)\n",
        "action = np.argmax(q_table[state, :])\n",
        "print(\"State: \", states[state])\n",
        "print(\"Action: \", actions[action])"
      ]
    },
    {
      "cell_type": "code",
      "source": [
        "# Use the learned Q-table to make pricing decisions\n",
        "state = np.random.randint(0, num_states)\n",
        "action = np.argmax(q_table[state, :])\n",
        "print(\"State: \", states[state])\n",
        "print(\"Action: \", actions[action])"
      ],
      "metadata": {
        "colab": {
          "base_uri": "https://localhost:8080/"
        },
        "id": "BP1jRP2yPpCg",
        "outputId": "27981749-42a8-4bdc-9d81-a12afda07c42"
      },
      "execution_count": null,
      "outputs": [
        {
          "output_type": "stream",
          "name": "stdout",
          "text": [
            "State:  sunny_day\n",
            "Action:  decrease_price\n"
          ]
        }
      ]
    },
    {
      "cell_type": "markdown",
      "source": [
        "**RL for path finding**"
      ],
      "metadata": {
        "id": "6ABaSNUokld-"
      }
    },
    {
      "cell_type": "code",
      "source": [
        "import numpy as np\n",
        "import matplotlib.pyplot as plt\n",
        "\n",
        "# define the grid world game environment\n",
        "num_rows = 10\n",
        "num_cols = 10\n",
        "start_state = (1, 1)\n",
        "goal_state  = (8, 8)\n",
        "obsctruct_num=20\n",
        "invalid_states=[(i,j) for i,j in zip(np.random.randint(0,num_cols,obsctruct_num),np.random.randint(0,num_rows,obsctruct_num))]\n",
        "invalid_states = invalid_states+[(0, j) for j in range(num_rows) ] + [(num_cols-1, j) for j in range(num_rows)]+[( j, 0) for j in range(num_cols)]+[( j, num_rows-1) for j in range(num_cols)]\n",
        "\n",
        "map=np.zeros([num_rows,num_cols])\n",
        "map[start_state]= 1\n",
        "map[goal_state] = 1\n",
        "for x in invalid_states:\n",
        "  map[x] = 0.5\n",
        "plt.imshow(map)"
      ],
      "metadata": {
        "colab": {
          "base_uri": "https://localhost:8080/",
          "height": 282
        },
        "id": "KqC3qPbZSs_j",
        "outputId": "6790dcbc-fe04-4498-ed70-17c5b4c25030"
      },
      "execution_count": 176,
      "outputs": [
        {
          "output_type": "execute_result",
          "data": {
            "text/plain": [
              "<matplotlib.image.AxesImage at 0x7fca164a0250>"
            ]
          },
          "metadata": {},
          "execution_count": 176
        },
        {
          "output_type": "display_data",
          "data": {
            "text/plain": [
              "<Figure size 432x288 with 1 Axes>"
            ],
            "image/png": "[encoded data removed]"
          },
          "metadata": {
            "needs_background": "light"
          }
        }
      ]
    },
    {
      "cell_type": "code",
      "source": [
        "# define the reward function\n",
        "def get_reward(state, action):\n",
        "    \"\"\"\n",
        "    Returns the reward for taking an action in a given state.\n",
        "    \"\"\"\n",
        "    if is_goal_state(state, action):\n",
        "        return 1000\n",
        "    elif is_invalid_state(state, action):\n",
        "        return -100\n",
        "    else:\n",
        "        return -1\n",
        "\n",
        "# define helper functions for the reward function\n",
        "def is_goal_state(state, action):\n",
        "    new_state = take_action(state, action)\n",
        "    return new_state == goal_state\n",
        "\n",
        "def is_invalid_state(state, action):\n",
        "    new_state = take_action(state, action)\n",
        "    return new_state in invalid_states\n",
        "\n",
        "def take_action(state, action):\n",
        "    row, col = state\n",
        "    if action == \"up\":\n",
        "        row = max(row - 1, 0)\n",
        "    elif action == \"down\":\n",
        "        row = min(row + 1, num_rows - 1)\n",
        "    elif action == \"left\":\n",
        "        col = max(col - 1, 0)\n",
        "    elif action == \"right\":\n",
        "        col = min(col + 1, num_cols - 1)\n",
        "    return (row, col)\n",
        "\n",
        "# define the Q-learning algorithm\n",
        "def q_learning(num_episodes, alpha, gamma, epsilon):\n",
        "    # initialize Q values to 0\n",
        "    q_values = np.zeros((num_rows, num_cols, 4))\n",
        "    episode_suc=0\n",
        "    for episode in range(num_episodes):\n",
        "        # initialize state and episode length\n",
        "        state = start_state\n",
        "        done = False\n",
        "        t = 0       \n",
        "        # choose action using exploitation \n",
        "        if np.random.uniform() < epsilon:\n",
        "            action = np.random.choice(action_choice)\n",
        "        else:       \n",
        "            action = action_choice[np.argmax(q_values[state[0], state[1], :])]     \n",
        "        while not done:\n",
        "            # take action and get reward\n",
        "            next_state = take_action(state, action)\n",
        "            reward = get_reward(state, action)\n",
        "            \n",
        "            # choose next action using epsilon-greedy policy\n",
        "            if np.random.uniform() < epsilon:\n",
        "                next_action = np.random.choice(action_choice)\n",
        "            else:\n",
        "                next_action = action_choice[np.argmax(q_values[next_state[0], next_state[1], :])]\n",
        "            # update Q value'\n",
        "            action_id=action_choice.index(action)   \n",
        "            q_values[state[0], state[1], action_id] += alpha * (reward + gamma * q_values[next_state[0], next_state[1], action_choice.index(next_action)] - q_values[state[0], state[1], action_id])    \n",
        "            # update state and action\n",
        "            state = next_state\n",
        "            action = next_action\n",
        "            if (state == goal_state):\n",
        "              episode_suc+=1\n",
        "            # check if goal state is reached or maximum episode length is exceeded\n",
        "            done = (state == goal_state) or (t >= 500)\n",
        "            t += 1\n",
        "\n",
        "    print(episode_suc)\n",
        "    return q_values\n",
        "    \n",
        "\n",
        "action_choice= [\"up\", \"down\", \"left\", \"right\"]\n",
        "\n",
        "# run the Q-learning algorithm for 1000 episodes\n",
        "q_values = q_learning(num_episodes=1000, alpha=0.5, gamma=0.1, epsilon=0.1)\n"
      ],
      "metadata": {
        "colab": {
          "base_uri": "https://localhost:8080/"
        },
        "id": "EV_AijyHklMO",
        "outputId": "5ac1176b-4975-41f3-9345-37125d57bde6"
      },
      "execution_count": 177,
      "outputs": [
        {
          "output_type": "stream",
          "name": "stdout",
          "text": [
            "770\n"
          ]
        }
      ]
    },
    {
      "cell_type": "code",
      "source": [
        "map=np.zeros([num_rows,num_cols])\n",
        "map[start_state]= 1\n",
        "map[goal_state] = 1\n",
        "for x in invalid_states:\n",
        "  map[x] = 0.5\n",
        "plt.imshow(map)"
      ],
      "metadata": {
        "colab": {
          "base_uri": "https://localhost:8080/",
          "height": 282
        },
        "id": "0a3UEKn0WfBX",
        "outputId": "b9c57d9d-6895-45a9-ff5f-40ff3f9a404d"
      },
      "execution_count": 178,
      "outputs": [
        {
          "output_type": "execute_result",
          "data": {
            "text/plain": [
              "<matplotlib.image.AxesImage at 0x7fca163d5790>"
            ]
          },
          "metadata": {},
          "execution_count": 178
        },
        {
          "output_type": "display_data",
          "data": {
            "text/plain": [
              "<Figure size 432x288 with 1 Axes>"
            ],
            "image/png": "[encoded data removed]"
          },
          "metadata": {
            "needs_background": "light"
          }
        }
      ]
    },
    {
      "cell_type": "code",
      "source": [
        "state=start_state\n",
        "done = False\n",
        "i=1\n",
        "while not done:\n",
        "  i+=0.1\n",
        "  action=action_choice[np.argmax(q_values[state[0],state[1], :])]\n",
        "  state=take_action(state,action)\n",
        "  map[state]=i\n",
        "  done = (state==goal_state) "
      ],
      "metadata": {
        "id": "3gA0JDns1dy-"
      },
      "execution_count": 179,
      "outputs": []
    },
    {
      "cell_type": "code",
      "source": [
        "plt.imshow(map)"
      ],
      "metadata": {
        "colab": {
          "base_uri": "https://localhost:8080/",
          "height": 282
        },
        "id": "Yc7KPbsfLexB",
        "outputId": "10b596c6-77ca-4d5b-e9b1-d0d18a880632"
      },
      "execution_count": 180,
      "outputs": [
        {
          "output_type": "execute_result",
          "data": {
            "text/plain": [
              "<matplotlib.image.AxesImage at 0x7fca163bba60>"
            ]
          },
          "metadata": {},
          "execution_count": 180
        },
        {
          "output_type": "display_data",
          "data": {
            "text/plain": [
              "<Figure size 432x288 with 1 Axes>"
            ],
            "image/png": "[encoded data removed]"
          },
          "metadata": {
            "needs_background": "light"
          }
        }
      ]
    }
  ]
}