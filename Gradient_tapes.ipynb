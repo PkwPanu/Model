{
  "nbformat": 4,
  "nbformat_minor": 0,
  "metadata": {
    "colab": {
      "provenance": [],
      "authorship_tag": "ABX9TyO8/rlZOr/OgoYSN6D07xAH",
      "include_colab_link": true
    },
    "kernelspec": {
      "name": "python3",
      "display_name": "Python 3"
    },
    "language_info": {
      "name": "python"
    }
  },
  "cells": [
    {
      "cell_type": "markdown",
      "metadata": {
        "id": "view-in-github",
        "colab_type": "text"
      },
      "source": [
        "<a href=\"https://colab.research.google.com/github/PkwPanu/Model/blob/main/Gradient_tapes.ipynb\" target=\"_parent\"><img src=\"https://colab.research.google.com/assets/colab-badge.svg\" alt=\"Open In Colab\"/></a>"
      ]
    },
    {
      "cell_type": "code",
      "execution_count": null,
      "metadata": {
        "colab": {
          "base_uri": "https://localhost:8080/",
          "height": 283
        },
        "id": "38vALm-bupKu",
        "outputId": "cd0cd399-23d6-483e-c2bf-0cad95887a17"
      },
      "outputs": [
        {
          "output_type": "execute_result",
          "data": {
            "text/plain": [
              "[<matplotlib.lines.Line2D at 0x7fbad46965b0>]"
            ]
          },
          "metadata": {},
          "execution_count": 14
        },
        {
          "output_type": "display_data",
          "data": {
            "text/plain": [
              "<Figure size 432x288 with 1 Axes>"
            ],
            "image/png": "[encoded data removed]"
          },
          "metadata": {
            "needs_background": "light"
          }
        }
      ],
      "source": [
        "import numpy as np \n",
        "import matplotlib.pyplot as plt\n",
        "import tensorflow as tf\n",
        "\n",
        "\n",
        "#data points\n",
        "x_data = np.arange(0,1,0.01)\n",
        "size= x_data.size\n",
        "y_data = -3*x_data+0.4+0.1*np.random.randn(size)\n",
        "\n",
        "plt.plot(x_data,y_data,'ro')\n"
      ]
    },
    {
      "cell_type": "code",
      "source": [
        "W = tf.Variable(np.random.rand())\n",
        "b = tf.Variable(np.random.rand())\n",
        "lr=0.1\n",
        "for epoch in range(500):\n",
        "  with tf.GradientTape() as t:\n",
        "    Y = W*x_data+b\n",
        "    loss = tf.reduce_mean((Y-y_data)**2)\n",
        "  dW,db = t.gradient(loss,[W,b])\n",
        "  W.assign_sub(lr*dW)\n",
        "  b.assign_sub(lr*db)\n",
        "  print(epoch,W.numpy(),b.numpy(),loss.numpy())"
      ],
      "metadata": {
        "id": "zWze4QwcyumG"
      },
      "execution_count": null,
      "outputs": []
    },
    {
      "cell_type": "code",
      "source": [
        "Prediction = W*x_data+b\n",
        "plt.plot(x_data,y_data,'ro')\n",
        "plt.plot(x_data,Prediction,'b-')\n"
      ],
      "metadata": {
        "colab": {
          "base_uri": "https://localhost:8080/",
          "height": 283
        },
        "id": "kObWbd4e05_g",
        "outputId": "a7301543-95d9-48b2-f18e-39826306ba3e"
      },
      "execution_count": null,
      "outputs": [
        {
          "output_type": "execute_result",
          "data": {
            "text/plain": [
              "[<matplotlib.lines.Line2D at 0x7fbad45a8eb0>]"
            ]
          },
          "metadata": {},
          "execution_count": 19
        },
        {
          "output_type": "display_data",
          "data": {
            "text/plain": [
              "<Figure size 432x288 with 1 Axes>"
            ],
            "image/png": "[encoded data removed]"
          },
          "metadata": {
            "needs_background": "light"
          }
        }
      ]
    },
    {
      "cell_type": "markdown",
      "source": [
        "Non-linear"
      ],
      "metadata": {
        "id": "qc21cTld7WyH"
      }
    },
    {
      "cell_type": "code",
      "source": [
        "#data point\n",
        "#x_data = np.arange(0,1,0.01)\n",
        "#size = x_data.size\n",
        "\n",
        "size=100\n",
        "x_data = np.random.rand(size,1)\n",
        "y_data = np.sin(2*np.pi*x_data+0.3)+0.4 + 0.1*np.random.randn(size,1)\n",
        "\n",
        "plt.plot(x_data,y_data,'r.')\n"
      ],
      "metadata": {
        "colab": {
          "base_uri": "https://localhost:8080/",
          "height": 282
        },
        "id": "it-Ce9vM7SBH",
        "outputId": "366a6999-ff73-4fb5-cdcb-d2cd6e450bf6"
      },
      "execution_count": null,
      "outputs": [
        {
          "output_type": "execute_result",
          "data": {
            "text/plain": [
              "[<matplotlib.lines.Line2D at 0x7fbad2d81880>]"
            ]
          },
          "metadata": {},
          "execution_count": 130
        },
        {
          "output_type": "display_data",
          "data": {
            "text/plain": [
              "<Figure size 432x288 with 1 Axes>"
            ],
            "image/png": "[encoded data removed]"
          },
          "metadata": {
            "needs_background": "light"
          }
        }
      ]
    },
    {
      "cell_type": "code",
      "source": [
        "# mode\n",
        "W1 = tf.Variable(np.random.rand(1,10))\n",
        "W2 = tf.Variable(np.random.rand(10,10))\n",
        "W3 = tf.Variable(np.random.rand(10,1))\n",
        "b1 = tf.Variable(np.random.rand(10))\n",
        "b2 = tf.Variable(np.random.rand(10))\n",
        "b3 = tf.Variable(np.random.rand(1))\n",
        "\n",
        "lr =8e-2\n",
        "\n",
        "def relu(x):\n",
        "  return tf.where(x>0,x,0)\n",
        "\n",
        "for epoch in range (7000):\n",
        "  with tf.GradientTape() as t:\n",
        "    Y = tf.math.tanh(x_data @ W1 + b1)\n",
        "    Y = tf.math.tanh(Y @ W2 +b2)\n",
        "    Y = Y @ W3 +b3\n",
        "    loss = tf.reduce_mean((Y-y_data)**2)\n",
        "  dW1,db1,dW2,db2,dW3,db3=t.gradient(loss,[W1,b1,W2,b2,W3,b3])\n",
        "  W1.assign_sub(lr*dW1)\n",
        "  W2.assign_sub(lr*dW2)\n",
        "  W3.assign_sub(lr*dW3)\n",
        "  b1.assign_sub(lr*db1)\n",
        "  b2.assign_sub(lr*db2)\n",
        "  b3.assign_sub(lr*db3)\n",
        "  if(epoch%200==0):\n",
        "    print(epoch,loss.numpy())"
      ],
      "metadata": {
        "colab": {
          "base_uri": "https://localhost:8080/"
        },
        "id": "P-WuBPagLt-w",
        "outputId": "9b70dd50-560c-41ad-cb06-dfe88c25e691"
      },
      "execution_count": null,
      "outputs": [
        {
          "output_type": "stream",
          "name": "stdout",
          "text": [
            "0 40.954557215298166\n",
            "200 0.12085308101161299\n",
            "400 0.057469281790128425\n",
            "600 0.0500654528766532\n",
            "800 0.041831995623623684\n",
            "1000 0.028462566551489498\n",
            "1200 0.02070540765568943\n",
            "1400 0.016050835493287882\n",
            "1600 0.013392089616073775\n",
            "1800 0.01183605357763354\n",
            "2000 0.010875385193103071\n",
            "2200 0.010253080075998679\n",
            "2400 0.00983530966144517\n",
            "2600 0.009547611293144189\n",
            "2800 0.009345666473211634\n",
            "3000 0.009201599562066301\n",
            "3200 0.009097165239913673\n",
            "3400 0.009020103059034503\n",
            "3600 0.008962039795479819\n",
            "3800 0.008917204521269284\n",
            "4000 0.008881601890338334\n",
            "4200 0.008852461045318637\n",
            "4400 0.00882785963392962\n",
            "4600 0.008806463875623505\n",
            "4800 0.00878734781652782\n",
            "5000 0.008769867572136334\n",
            "5200 0.008753574065274869\n",
            "5400 0.008738152750901866\n",
            "5600 0.008723382201149227\n",
            "5800 0.008709105794630146\n",
            "6000 0.008695212445177554\n",
            "6200 0.008681623518334307\n",
            "6400 0.008668283951778684\n",
            "6600 0.008655156211721094\n",
            "6800 0.008642216149509429\n"
          ]
        }
      ]
    },
    {
      "cell_type": "code",
      "source": [
        "x_test=np.linspace(0,1,size).reshape(size,1)\n",
        "Prediction = tf.math.tanh(x_test @ W1 + b1)\n",
        "Prediction = tf.math.tanh(Prediction @ W2 +b2)\n",
        "Prediction = Prediction @ W3   +b3\n",
        "plt.plot(x_data,y_data,'ro')\n",
        "plt.plot(x_test,Prediction,'b-')"
      ],
      "metadata": {
        "colab": {
          "base_uri": "https://localhost:8080/",
          "height": 282
        },
        "id": "RwskofU8VMvk",
        "outputId": "6af70650-e094-4950-d3ce-602faf417aa9"
      },
      "execution_count": null,
      "outputs": [
        {
          "output_type": "execute_result",
          "data": {
            "text/plain": [
              "[<matplotlib.lines.Line2D at 0x7fbad2e79a00>]"
            ]
          },
          "metadata": {},
          "execution_count": 125
        },
        {
          "output_type": "display_data",
          "data": {
            "text/plain": [
              "<Figure size 432x288 with 1 Axes>"
            ],
            "image/png": "[encoded data removed]"
          },
          "metadata": {
            "needs_background": "light"
          }
        }
      ]
    },
    {
      "cell_type": "markdown",
      "source": [
        "Gradient Tapes with Class"
      ],
      "metadata": {
        "id": "MJEFZBmwgBja"
      }
    },
    {
      "cell_type": "code",
      "source": [
        "def relu(x):\n",
        "  return tf.where(x>0,x,0)\n",
        "def linear(x):\n",
        "  return x\n",
        "\n",
        "class MutiLayerP():\n",
        "  def __init__(self, neurons= [1,10,10,1], activation = [relu, relu, linear]) :\n",
        "    self.W = []\n",
        "    self.activation = activation \n",
        "    for i in range(1,len(neurons)):\n",
        "      self.W.append(tf.Variable(np.random.randn(neurons[i-1], neurons[i]),dtype=tf.float32))\n",
        "      self.W.append(tf.Variable(np.random.randn(neurons[i]),dtype=tf.float32)) \n",
        "  def __call__(self, x):\n",
        "    for i in range(0,len(self.W),2):\n",
        "      x = x @ self.W[i] + self.W[i+1]\n",
        "      x = self.activation[i//2](x)\n",
        "    return x\n",
        "\n",
        "  def fit(self,x,y,lr=1e-4,epochs=1000):\n",
        "    for epoch in range(1,epochs+1):\n",
        "        with tf.GradientTape() as t:\n",
        "          loss = tf.reduce_mean((model(x)-y)**2)\n",
        "        dW = t.gradient(loss,model.W)\n",
        "        for i, W in enumerate(model.W):\n",
        "          W.assign_sub(lr*dW[i])\n",
        "        if epoch % 500 == 0:\n",
        "          print('epoch:',epoch,' loss =',loss.numpy())  "
      ],
      "metadata": {
        "id": "6mDliqw9gA8i"
      },
      "execution_count": null,
      "outputs": []
    },
    {
      "cell_type": "code",
      "source": [
        "model = MutiLayerP(neurons= [1,5,1], activation = [ tf.math.tanh, linear])   #layer [1 input// hidden layers// 1 output]\n",
        "model.fit(x=x_data,y=y_data,lr=8e-2,epochs=7000)"
      ],
      "metadata": {
        "colab": {
          "base_uri": "https://localhost:8080/"
        },
        "id": "2Q_ECw_Tr1rX",
        "outputId": "688fb5a4-122a-425a-da35-7f2bcb08dd02"
      },
      "execution_count": null,
      "outputs": [
        {
          "output_type": "stream",
          "name": "stdout",
          "text": [
            "epoch: 500  loss = 0.18953934\n",
            "epoch: 1000  loss = 0.10339918\n",
            "epoch: 1500  loss = 0.035684433\n",
            "epoch: 2000  loss = 0.020696545\n",
            "epoch: 2500  loss = 0.018347146\n",
            "epoch: 3000  loss = 0.017609589\n",
            "epoch: 3500  loss = 0.01711936\n",
            "epoch: 4000  loss = 0.016845621\n",
            "epoch: 4500  loss = 0.01654968\n",
            "epoch: 5000  loss = 0.017910516\n",
            "epoch: 5500  loss = 0.015865875\n",
            "epoch: 6000  loss = 0.015433123\n",
            "epoch: 6500  loss = 0.015115613\n",
            "epoch: 7000  loss = 0.0149527965\n"
          ]
        }
      ]
    },
    {
      "cell_type": "code",
      "source": [
        "x_test=np.linspace(0,1,size).reshape(size,1)\n",
        "\n",
        "Prediction = model(x_test)\n",
        "\n",
        "plt.plot(x_data,y_data,'ro')\n",
        "plt.plot(x_test,Prediction,'b-')\n",
        "plt.show()"
      ],
      "metadata": {
        "colab": {
          "base_uri": "https://localhost:8080/",
          "height": 265
        },
        "id": "I3bo7LcktNlM",
        "outputId": "fb8675de-7b9a-459f-c044-91bd89fa0438"
      },
      "execution_count": null,
      "outputs": [
        {
          "output_type": "display_data",
          "data": {
            "text/plain": [
              "<Figure size 432x288 with 1 Axes>"
            ],
            "image/png": "[encoded data removed]"
          },
          "metadata": {
            "needs_background": "light"
          }
        }
      ]
    },
    {
      "cell_type": "code",
      "source": [],
      "metadata": {
        "id": "Eykk88Cturw9"
      },
      "execution_count": null,
      "outputs": []
    }
  ]
}