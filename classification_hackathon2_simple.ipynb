{
 "cells": [
  {
   "cell_type": "code",
   "execution_count": 1,
   "id": "848e463e",
   "metadata": {},
   "outputs": [],
   "source": [
    "import numpy as np\n",
    "import pandas as pd\n"
   ]
  },
  {
   "cell_type": "code",
   "execution_count": 3,
   "id": "0c9fcdde",
   "metadata": {},
   "outputs": [
    {
     "name": "stderr",
     "output_type": "stream",
     "text": [
      "C:\\Users\\latte\\AppData\\Local\\Temp\\ipykernel_1388\\1020304786.py:1: DtypeWarning: Columns (12,28,29,30,116,128) have mixed types. Specify dtype option on import or set low_memory=False.\n",
      "  train_data =pd.read_csv('train_data.csv')\n",
      "C:\\Users\\latte\\AppData\\Local\\Temp\\ipykernel_1388\\1020304786.py:3: DtypeWarning: Columns (12) have mixed types. Specify dtype option on import or set low_memory=False.\n",
      "  test_data =pd.read_csv('test_data.csv')\n"
     ]
    }
   ],
   "source": [
    "train_data =pd.read_csv('train_data.csv')\n",
    "train_target =pd.read_csv('train_target.csv')\n",
    "test_data =pd.read_csv('test_data.csv')\n",
    "data_description =pd.read_csv('data_description.csv')\n",
    "train_data=train_data.iloc[:,1:]"
   ]
  },
  {
   "cell_type": "code",
   "execution_count": 28,
   "id": "1ebfa2f6",
   "metadata": {
    "scrolled": true
   },
   "outputs": [
    {
     "data": {
      "text/html": [
       "<div>\n",
       "<style scoped>\n",
       "    .dataframe tbody tr th:only-of-type {\n",
       "        vertical-align: middle;\n",
       "    }\n",
       "\n",
       "    .dataframe tbody tr th {\n",
       "        vertical-align: top;\n",
       "    }\n",
       "\n",
       "    .dataframe thead th {\n",
       "        text-align: right;\n",
       "    }\n",
       "</style>\n",
       "<table border=\"1\" class=\"dataframe\">\n",
       "  <thead>\n",
       "    <tr style=\"text-align: right;\">\n",
       "      <th></th>\n",
       "      <th>Column</th>\n",
       "      <th>Description</th>\n",
       "      <th>Type</th>\n",
       "      <th>Value</th>\n",
       "    </tr>\n",
       "  </thead>\n",
       "  <tbody>\n",
       "    <tr>\n",
       "      <th>10</th>\n",
       "      <td>Q1_IndBD_2</td>\n",
       "      <td>รูปแบบอุตสาหกรรมการผลิต/ การขายส่งขายปลีก (ดู ...</td>\n",
       "      <td>BD1-BD30</td>\n",
       "      <td>NaN</td>\n",
       "    </tr>\n",
       "    <tr>\n",
       "      <th>11</th>\n",
       "      <td>Q1_IndBD_3</td>\n",
       "      <td>รูปแบบอุตสาหกรรมการผลิต/ การขายส่งขายปลีก (ดู ...</td>\n",
       "      <td>BD1-BD30</td>\n",
       "      <td>NaN</td>\n",
       "    </tr>\n",
       "    <tr>\n",
       "      <th>12</th>\n",
       "      <td>Q1_Occ_Year</td>\n",
       "      <td>ระยะเวลาที่ทำอาชีพ</td>\n",
       "      <td>ปี</td>\n",
       "      <td>NaN</td>\n",
       "    </tr>\n",
       "    <tr>\n",
       "      <th>13</th>\n",
       "      <td>Q1_OCC_A</td>\n",
       "      <td>กรณีสัญญาจ้างชั่วคราว โปรดระบุระยะเวลาที่เหลือ...</td>\n",
       "      <td>0,1</td>\n",
       "      <td>0: ไม่ระบุ 1: ระบุ</td>\n",
       "    </tr>\n",
       "    <tr>\n",
       "      <th>14</th>\n",
       "      <td>Q1_OCC_A_Month</td>\n",
       "      <td>กรณีสัญญาจ้างชั่วคราว โปรดระบุระยะเวลาที่เหลือ...</td>\n",
       "      <td>เดือน</td>\n",
       "      <td>NaN</td>\n",
       "    </tr>\n",
       "    <tr>\n",
       "      <th>15</th>\n",
       "      <td>Q1_OCC_B</td>\n",
       "      <td>กรณีทำธุรกิจส่วนตัว/ ผู้ประกอบการด้านการเกษตรห...</td>\n",
       "      <td>0,1</td>\n",
       "      <td>0: ไม่ระบุ 1: ระบุ</td>\n",
       "    </tr>\n",
       "    <tr>\n",
       "      <th>16</th>\n",
       "      <td>Q1_OCC_B_Num</td>\n",
       "      <td>กรณีทำธุรกิจส่วนตัว/ ผู้ประกอบการด้านการเกษตรห...</td>\n",
       "      <td>คน</td>\n",
       "      <td>จำนวนลูกจ้าง 0: ไม่มีลูกจ้าง</td>\n",
       "    </tr>\n",
       "    <tr>\n",
       "      <th>17</th>\n",
       "      <td>Q1_OCC_C</td>\n",
       "      <td>กรณีรับจ้างทั่วไป</td>\n",
       "      <td>0,1</td>\n",
       "      <td>0: ไม่ระบุ 1: ระบุ</td>\n",
       "    </tr>\n",
       "    <tr>\n",
       "      <th>18</th>\n",
       "      <td>Q1_Occ_Have</td>\n",
       "      <td>กรณีรับจ้างทั่วไป</td>\n",
       "      <td>1,2</td>\n",
       "      <td>1: มีนายจ้างประจำ 2: ไม่มีนายจ้างประจำ</td>\n",
       "    </tr>\n",
       "    <tr>\n",
       "      <th>19</th>\n",
       "      <td>Q2</td>\n",
       "      <td>2. ทำอาชีพอื่น ๆ ควบคู่ไปกับอาชีพข้างต้น หรือเ...</td>\n",
       "      <td>1,2</td>\n",
       "      <td>1: ไม่ 2: มีอาชีพอื่น</td>\n",
       "    </tr>\n",
       "  </tbody>\n",
       "</table>\n",
       "</div>"
      ],
      "text/plain": [
       "            Column                                        Description  \\\n",
       "10      Q1_IndBD_2  รูปแบบอุตสาหกรรมการผลิต/ การขายส่งขายปลีก (ดู ...   \n",
       "11      Q1_IndBD_3  รูปแบบอุตสาหกรรมการผลิต/ การขายส่งขายปลีก (ดู ...   \n",
       "12     Q1_Occ_Year                                 ระยะเวลาที่ทำอาชีพ   \n",
       "13        Q1_OCC_A  กรณีสัญญาจ้างชั่วคราว โปรดระบุระยะเวลาที่เหลือ...   \n",
       "14  Q1_OCC_A_Month  กรณีสัญญาจ้างชั่วคราว โปรดระบุระยะเวลาที่เหลือ...   \n",
       "15        Q1_OCC_B  กรณีทำธุรกิจส่วนตัว/ ผู้ประกอบการด้านการเกษตรห...   \n",
       "16    Q1_OCC_B_Num  กรณีทำธุรกิจส่วนตัว/ ผู้ประกอบการด้านการเกษตรห...   \n",
       "17        Q1_OCC_C                                  กรณีรับจ้างทั่วไป   \n",
       "18     Q1_Occ_Have                                  กรณีรับจ้างทั่วไป   \n",
       "19              Q2  2. ทำอาชีพอื่น ๆ ควบคู่ไปกับอาชีพข้างต้น หรือเ...   \n",
       "\n",
       "        Type                                   Value  \n",
       "10  BD1-BD30                                     NaN  \n",
       "11  BD1-BD30                                     NaN  \n",
       "12        ปี                                     NaN  \n",
       "13       0,1                      0: ไม่ระบุ 1: ระบุ  \n",
       "14     เดือน                                     NaN  \n",
       "15       0,1                      0: ไม่ระบุ 1: ระบุ  \n",
       "16        คน            จำนวนลูกจ้าง 0: ไม่มีลูกจ้าง  \n",
       "17       0,1                      0: ไม่ระบุ 1: ระบุ  \n",
       "18       1,2  1: มีนายจ้างประจำ 2: ไม่มีนายจ้างประจำ  \n",
       "19       1,2                   1: ไม่ 2: มีอาชีพอื่น  "
      ]
     },
     "execution_count": 28,
     "metadata": {},
     "output_type": "execute_result"
    }
   ],
   "source": [
    "data_description[10:20]"
   ]
  },
  {
   "cell_type": "code",
   "execution_count": 40,
   "id": "cd95c40f",
   "metadata": {},
   "outputs": [
    {
     "data": {
      "text/plain": [
       "Column                                                        Q2\n",
       "Description    2. ทำอาชีพอื่น ๆ ควบคู่ไปกับอาชีพข้างต้น หรือเ...\n",
       "Type                                                         1,2\n",
       "Value                                      1: ไม่ 2: มีอาชีพอื่น\n",
       "Name: 19, dtype: object"
      ]
     },
     "execution_count": 40,
     "metadata": {},
     "output_type": "execute_result"
    }
   ],
   "source": [
    "data_description.iloc[19,:]"
   ]
  },
  {
   "cell_type": "code",
   "execution_count": 258,
   "id": "05a0830f",
   "metadata": {
    "scrolled": true
   },
   "outputs": [],
   "source": [
    "nanval= [ len(train_data[(train_data.iloc[:,i] == 888)|(train_data.iloc[:,i] == '888')| (train_data.iloc[:,i]==999)| (train_data.iloc[:,i]=='999')  | train_data.iloc[:,i].isna()])/20966*100 for i in range(143)]"
   ]
  },
  {
   "cell_type": "code",
   "execution_count": 262,
   "id": "66301ad6",
   "metadata": {},
   "outputs": [],
   "source": [
    "selected_noSenten=data_description['Type']!='ข้อความ'\n",
    "selected_c1=[i for i in range(143) if (nanval[i]>=0)&(nanval[i]<1)&(selected_noSenten[i])]"
   ]
  },
  {
   "cell_type": "code",
   "execution_count": 263,
   "id": "3328ffe1",
   "metadata": {},
   "outputs": [
    {
     "data": {
      "text/plain": [
       "77"
      ]
     },
     "execution_count": 263,
     "metadata": {},
     "output_type": "execute_result"
    }
   ],
   "source": [
    "len(selected_c1)"
   ]
  },
  {
   "cell_type": "code",
   "execution_count": 281,
   "id": "622a6e99",
   "metadata": {},
   "outputs": [
    {
     "data": {
      "text/plain": [
       "False    143\n",
       "dtype: int64"
      ]
     },
     "execution_count": 281,
     "metadata": {},
     "output_type": "execute_result"
    }
   ],
   "source": [
    "train_data.isna().any().value_counts()"
   ]
  },
  {
   "cell_type": "code",
   "execution_count": 264,
   "id": "c0d4c898",
   "metadata": {
    "scrolled": true
   },
   "outputs": [
    {
     "data": {
      "text/plain": [
       "Area                   1\n",
       "SubDistrict      หนองบอน\n",
       "District          ประเวศ\n",
       "Province        กรุงเทพฯ\n",
       "Region                 1\n",
       "                  ...   \n",
       "Youtube                0\n",
       "Twitter                0\n",
       "OtherApp               0\n",
       "OtherAppSpec         888\n",
       "NoSocial               0\n",
       "Name: 0, Length: 143, dtype: object"
      ]
     },
     "execution_count": 264,
     "metadata": {},
     "output_type": "execute_result"
    }
   ],
   "source": [
    "train_data.iloc[0,:]"
   ]
  },
  {
   "cell_type": "code",
   "execution_count": 265,
   "id": "b4c4c770",
   "metadata": {},
   "outputs": [
    {
     "data": {
      "text/html": [
       "<div>\n",
       "<style scoped>\n",
       "    .dataframe tbody tr th:only-of-type {\n",
       "        vertical-align: middle;\n",
       "    }\n",
       "\n",
       "    .dataframe tbody tr th {\n",
       "        vertical-align: top;\n",
       "    }\n",
       "\n",
       "    .dataframe thead th {\n",
       "        text-align: right;\n",
       "    }\n",
       "</style>\n",
       "<table border=\"1\" class=\"dataframe\">\n",
       "  <thead>\n",
       "    <tr style=\"text-align: right;\">\n",
       "      <th></th>\n",
       "      <th>Column</th>\n",
       "      <th>Description</th>\n",
       "      <th>Type</th>\n",
       "      <th>Value</th>\n",
       "    </tr>\n",
       "  </thead>\n",
       "  <tbody>\n",
       "    <tr>\n",
       "      <th>0</th>\n",
       "      <td>Area</td>\n",
       "      <td>พื้นที่เก็บข้อมูล</td>\n",
       "      <td>1-3</td>\n",
       "      <td>1: กรุงเทพ 2: ในเขต 3: นอกเขต</td>\n",
       "    </tr>\n",
       "    <tr>\n",
       "      <th>4</th>\n",
       "      <td>Region</td>\n",
       "      <td>ภาค</td>\n",
       "      <td>1-5</td>\n",
       "      <td>NaN</td>\n",
       "    </tr>\n",
       "    <tr>\n",
       "      <th>5</th>\n",
       "      <td>Q1_OccStatus</td>\n",
       "      <td>1. อาชีพที่เป็นรายได้หลักในปัจจุบัน</td>\n",
       "      <td>1-6</td>\n",
       "      <td>1: ธุรกิจส่วนตัว/ ค้าขาย หรือบริการรายย่อย  2:...</td>\n",
       "    </tr>\n",
       "    <tr>\n",
       "      <th>7</th>\n",
       "      <td>Q1_OccCode</td>\n",
       "      <td>รหัสอาชีพ (ดู occupation)</td>\n",
       "      <td>A1-Q4</td>\n",
       "      <td>NaN</td>\n",
       "    </tr>\n",
       "    <tr>\n",
       "      <th>8</th>\n",
       "      <td>Q1_OccInd</td>\n",
       "      <td>รหัสอุตสาหกรรม (ดู occupation)</td>\n",
       "      <td>A-Q</td>\n",
       "      <td>NaN</td>\n",
       "    </tr>\n",
       "    <tr>\n",
       "      <th>...</th>\n",
       "      <td>...</td>\n",
       "      <td>...</td>\n",
       "      <td>...</td>\n",
       "      <td>...</td>\n",
       "    </tr>\n",
       "    <tr>\n",
       "      <th>124</th>\n",
       "      <td>Edu</td>\n",
       "      <td>ระดับการศึกษาชั้นสูงสุดที่สำเร็จมา</td>\n",
       "      <td>1-6</td>\n",
       "      <td>1: ประถมศึกษาหรือต่ำกว่า  2: มัธยมศึกษาตอนต้น ...</td>\n",
       "    </tr>\n",
       "    <tr>\n",
       "      <th>125</th>\n",
       "      <td>Salary</td>\n",
       "      <td>รายได้ครอบครัวเฉลี่ยต่อเดือน</td>\n",
       "      <td>1-7</td>\n",
       "      <td>1: ไม่เกิน 10,000 บาท  2: 10,001 - 20,000 บาท ...</td>\n",
       "    </tr>\n",
       "    <tr>\n",
       "      <th>126</th>\n",
       "      <td>Live</td>\n",
       "      <td>คุณพักอาศัยอยู่กับใคร</td>\n",
       "      <td>1-7</td>\n",
       "      <td>1: อยู่คนเดียว  2: อยู่กับพ่อแม่  3: อยู่กับคร...</td>\n",
       "    </tr>\n",
       "    <tr>\n",
       "      <th>128</th>\n",
       "      <td>Owner</td>\n",
       "      <td>คุณมีที่อยู่อาศัยเป็นของตัวเอง หรือไม่ (มีชื่อ...</td>\n",
       "      <td>1,2</td>\n",
       "      <td>1: มีที่อยู่อาศัยเป็นของตัวเอง   \\r\\n2: ไม่มีท...</td>\n",
       "    </tr>\n",
       "    <tr>\n",
       "      <th>132</th>\n",
       "      <td>Line</td>\n",
       "      <td>ความจำเป็นในการใช้แอปพลิเคชันไลน์ (Line) ในการ...</td>\n",
       "      <td>1,2</td>\n",
       "      <td>1: จำเป็น 2: ไม่จำเป็น</td>\n",
       "    </tr>\n",
       "  </tbody>\n",
       "</table>\n",
       "<p>77 rows × 4 columns</p>\n",
       "</div>"
      ],
      "text/plain": [
       "           Column                                        Description   Type  \\\n",
       "0            Area                                  พื้นที่เก็บข้อมูล    1-3   \n",
       "4          Region                                                ภาค    1-5   \n",
       "5    Q1_OccStatus                1. อาชีพที่เป็นรายได้หลักในปัจจุบัน    1-6   \n",
       "7      Q1_OccCode                          รหัสอาชีพ (ดู occupation)  A1-Q4   \n",
       "8       Q1_OccInd                     รหัสอุตสาหกรรม (ดู occupation)    A-Q   \n",
       "..            ...                                                ...    ...   \n",
       "124           Edu            ระดับการศึกษาชั้นสูงสุดที่สำเร็จมา         1-6   \n",
       "125        Salary                      รายได้ครอบครัวเฉลี่ยต่อเดือน     1-7   \n",
       "126          Live                            คุณพักอาศัยอยู่กับใคร      1-7   \n",
       "128         Owner  คุณมีที่อยู่อาศัยเป็นของตัวเอง หรือไม่ (มีชื่อ...    1,2   \n",
       "132          Line  ความจำเป็นในการใช้แอปพลิเคชันไลน์ (Line) ในการ...    1,2   \n",
       "\n",
       "                                                 Value  \n",
       "0                        1: กรุงเทพ 2: ในเขต 3: นอกเขต  \n",
       "4                                                  NaN  \n",
       "5    1: ธุรกิจส่วนตัว/ ค้าขาย หรือบริการรายย่อย  2:...  \n",
       "7                                                  NaN  \n",
       "8                                                  NaN  \n",
       "..                                                 ...  \n",
       "124  1: ประถมศึกษาหรือต่ำกว่า  2: มัธยมศึกษาตอนต้น ...  \n",
       "125  1: ไม่เกิน 10,000 บาท  2: 10,001 - 20,000 บาท ...  \n",
       "126  1: อยู่คนเดียว  2: อยู่กับพ่อแม่  3: อยู่กับคร...  \n",
       "128  1: มีที่อยู่อาศัยเป็นของตัวเอง   \\r\\n2: ไม่มีท...  \n",
       "132                             1: จำเป็น 2: ไม่จำเป็น  \n",
       "\n",
       "[77 rows x 4 columns]"
      ]
     },
     "execution_count": 265,
     "metadata": {},
     "output_type": "execute_result"
    }
   ],
   "source": [
    "data_description.iloc[selected_c1,:]"
   ]
  },
  {
   "cell_type": "code",
   "execution_count": 393,
   "id": "57cd98c5",
   "metadata": {},
   "outputs": [
    {
     "data": {
      "text/html": [
       "<div>\n",
       "<style scoped>\n",
       "    .dataframe tbody tr th:only-of-type {\n",
       "        vertical-align: middle;\n",
       "    }\n",
       "\n",
       "    .dataframe tbody tr th {\n",
       "        vertical-align: top;\n",
       "    }\n",
       "\n",
       "    .dataframe thead th {\n",
       "        text-align: right;\n",
       "    }\n",
       "</style>\n",
       "<table border=\"1\" class=\"dataframe\">\n",
       "  <thead>\n",
       "    <tr style=\"text-align: right;\">\n",
       "      <th></th>\n",
       "      <th>Column</th>\n",
       "      <th>Description</th>\n",
       "      <th>Type</th>\n",
       "      <th>Value</th>\n",
       "    </tr>\n",
       "  </thead>\n",
       "  <tbody>\n",
       "    <tr>\n",
       "      <th>1</th>\n",
       "      <td>SubDistrict</td>\n",
       "      <td>ตำบล/ แขวง</td>\n",
       "      <td>ข้อความ</td>\n",
       "      <td>NaN</td>\n",
       "    </tr>\n",
       "    <tr>\n",
       "      <th>2</th>\n",
       "      <td>District</td>\n",
       "      <td>อำเภอ/ เขต</td>\n",
       "      <td>ข้อความ</td>\n",
       "      <td>NaN</td>\n",
       "    </tr>\n",
       "    <tr>\n",
       "      <th>3</th>\n",
       "      <td>Province</td>\n",
       "      <td>จังหวัด</td>\n",
       "      <td>ข้อความ</td>\n",
       "      <td>NaN</td>\n",
       "    </tr>\n",
       "    <tr>\n",
       "      <th>6</th>\n",
       "      <td>Q1_Occ</td>\n",
       "      <td>อาชีพ</td>\n",
       "      <td>ข้อความ</td>\n",
       "      <td>NaN</td>\n",
       "    </tr>\n",
       "    <tr>\n",
       "      <th>22</th>\n",
       "      <td>Q2.1_Occ</td>\n",
       "      <td>อาชีพ</td>\n",
       "      <td>ข้อความ</td>\n",
       "      <td>NaN</td>\n",
       "    </tr>\n",
       "    <tr>\n",
       "      <th>27</th>\n",
       "      <td>Q2.2_Occ</td>\n",
       "      <td>อาชีพ</td>\n",
       "      <td>ข้อความ</td>\n",
       "      <td>NaN</td>\n",
       "    </tr>\n",
       "    <tr>\n",
       "      <th>39</th>\n",
       "      <td>Q3.3Reason</td>\n",
       "      <td>เหตุผลที่เปลี่ยนงาน เนื่องจาก</td>\n",
       "      <td>ข้อความ</td>\n",
       "      <td>NaN</td>\n",
       "    </tr>\n",
       "    <tr>\n",
       "      <th>47</th>\n",
       "      <td>Q4_7Other</td>\n",
       "      <td>ปัญหาอื่น ๆ จากการประกอบอาชีพในปัจจุบัน</td>\n",
       "      <td>ข้อความ</td>\n",
       "      <td>NaN</td>\n",
       "    </tr>\n",
       "    <tr>\n",
       "      <th>74</th>\n",
       "      <td>Q5_9Other</td>\n",
       "      <td>หนี้สินอื่น ๆ</td>\n",
       "      <td>ข้อความ</td>\n",
       "      <td>NaN</td>\n",
       "    </tr>\n",
       "    <tr>\n",
       "      <th>103</th>\n",
       "      <td>Q9_9Other</td>\n",
       "      <td>การออม/ ลงทุน อื่นๆ</td>\n",
       "      <td>ข้อความ</td>\n",
       "      <td>NaN</td>\n",
       "    </tr>\n",
       "    <tr>\n",
       "      <th>106</th>\n",
       "      <td>Q10.1_1</td>\n",
       "      <td>ชื่อบัญชีเงินฝาก</td>\n",
       "      <td>ข้อความ</td>\n",
       "      <td>NaN</td>\n",
       "    </tr>\n",
       "    <tr>\n",
       "      <th>107</th>\n",
       "      <td>Q10.1_2</td>\n",
       "      <td>ชื่อบัญชีเงินฝาก</td>\n",
       "      <td>ข้อความ</td>\n",
       "      <td>NaN</td>\n",
       "    </tr>\n",
       "    <tr>\n",
       "      <th>108</th>\n",
       "      <td>Q10.1_3</td>\n",
       "      <td>ชื่อบัญชีเงินฝาก</td>\n",
       "      <td>ข้อความ</td>\n",
       "      <td>NaN</td>\n",
       "    </tr>\n",
       "    <tr>\n",
       "      <th>109</th>\n",
       "      <td>Q10.1_4</td>\n",
       "      <td>ชื่อบัญชีเงินฝาก</td>\n",
       "      <td>ข้อความ</td>\n",
       "      <td>NaN</td>\n",
       "    </tr>\n",
       "    <tr>\n",
       "      <th>110</th>\n",
       "      <td>Q10.1_5</td>\n",
       "      <td>ชื่อบัญชีเงินฝาก</td>\n",
       "      <td>ข้อความ</td>\n",
       "      <td>NaN</td>\n",
       "    </tr>\n",
       "    <tr>\n",
       "      <th>111</th>\n",
       "      <td>Q10.2_1</td>\n",
       "      <td>(10.2 จากบัญชีเงินฝากข้างต้น บัญชีธนาคารใดที่ม...</td>\n",
       "      <td>ข้อความ</td>\n",
       "      <td>NaN</td>\n",
       "    </tr>\n",
       "    <tr>\n",
       "      <th>112</th>\n",
       "      <td>Q10.2_2</td>\n",
       "      <td>ชื่อบัญชีเงินฝากที่มีการเคลื่อนไหวประจำ</td>\n",
       "      <td>ข้อความ</td>\n",
       "      <td>NaN</td>\n",
       "    </tr>\n",
       "    <tr>\n",
       "      <th>113</th>\n",
       "      <td>Q10.2_3</td>\n",
       "      <td>ชื่อบัญชีเงินฝากที่มีการเคลื่อนไหวประจำ</td>\n",
       "      <td>ข้อความ</td>\n",
       "      <td>NaN</td>\n",
       "    </tr>\n",
       "    <tr>\n",
       "      <th>114</th>\n",
       "      <td>Q10.2_4</td>\n",
       "      <td>ชื่อบัญชีเงินฝากที่มีการเคลื่อนไหวประจำ</td>\n",
       "      <td>ข้อความ</td>\n",
       "      <td>NaN</td>\n",
       "    </tr>\n",
       "    <tr>\n",
       "      <th>115</th>\n",
       "      <td>Q10.2_5</td>\n",
       "      <td>ชื่อบัญชีเงินฝากที่มีการเคลื่อนไหวประจำ</td>\n",
       "      <td>ข้อความ</td>\n",
       "      <td>NaN</td>\n",
       "    </tr>\n",
       "    <tr>\n",
       "      <th>127</th>\n",
       "      <td>LiveOther</td>\n",
       "      <td>ผู้ที่พักอาศัยอยู่ด้วย อื่นๆ</td>\n",
       "      <td>ข้อความ</td>\n",
       "      <td>NaN</td>\n",
       "    </tr>\n",
       "    <tr>\n",
       "      <th>131</th>\n",
       "      <td>AssetOther</td>\n",
       "      <td>ทรัพย์สินอื่น ๆ ที่มีชื่อเป็นผู้ถือกรรมสิทธิ์</td>\n",
       "      <td>ข้อความ</td>\n",
       "      <td>NaN</td>\n",
       "    </tr>\n",
       "    <tr>\n",
       "      <th>141</th>\n",
       "      <td>OtherAppSpec</td>\n",
       "      <td>วิธี/แอปพลิเคชัน อื่น ๆ</td>\n",
       "      <td>ข้อความ</td>\n",
       "      <td>NaN</td>\n",
       "    </tr>\n",
       "  </tbody>\n",
       "</table>\n",
       "</div>"
      ],
      "text/plain": [
       "           Column                                        Description     Type  \\\n",
       "1     SubDistrict                                         ตำบล/ แขวง  ข้อความ   \n",
       "2        District                                         อำเภอ/ เขต  ข้อความ   \n",
       "3        Province                                            จังหวัด  ข้อความ   \n",
       "6          Q1_Occ                                              อาชีพ  ข้อความ   \n",
       "22       Q2.1_Occ                                              อาชีพ  ข้อความ   \n",
       "27       Q2.2_Occ                                              อาชีพ  ข้อความ   \n",
       "39     Q3.3Reason                     เหตุผลที่เปลี่ยนงาน เนื่องจาก   ข้อความ   \n",
       "47      Q4_7Other           ปัญหาอื่น ๆ จากการประกอบอาชีพในปัจจุบัน   ข้อความ   \n",
       "74      Q5_9Other                                     หนี้สินอื่น ๆ   ข้อความ   \n",
       "103     Q9_9Other                                การออม/ ลงทุน อื่นๆ  ข้อความ   \n",
       "106       Q10.1_1                                   ชื่อบัญชีเงินฝาก  ข้อความ   \n",
       "107       Q10.1_2                                   ชื่อบัญชีเงินฝาก  ข้อความ   \n",
       "108       Q10.1_3                                   ชื่อบัญชีเงินฝาก  ข้อความ   \n",
       "109       Q10.1_4                                   ชื่อบัญชีเงินฝาก  ข้อความ   \n",
       "110       Q10.1_5                                   ชื่อบัญชีเงินฝาก  ข้อความ   \n",
       "111       Q10.2_1  (10.2 จากบัญชีเงินฝากข้างต้น บัญชีธนาคารใดที่ม...  ข้อความ   \n",
       "112       Q10.2_2            ชื่อบัญชีเงินฝากที่มีการเคลื่อนไหวประจำ  ข้อความ   \n",
       "113       Q10.2_3            ชื่อบัญชีเงินฝากที่มีการเคลื่อนไหวประจำ  ข้อความ   \n",
       "114       Q10.2_4            ชื่อบัญชีเงินฝากที่มีการเคลื่อนไหวประจำ  ข้อความ   \n",
       "115       Q10.2_5            ชื่อบัญชีเงินฝากที่มีการเคลื่อนไหวประจำ  ข้อความ   \n",
       "127     LiveOther                       ผู้ที่พักอาศัยอยู่ด้วย อื่นๆ  ข้อความ   \n",
       "131    AssetOther      ทรัพย์สินอื่น ๆ ที่มีชื่อเป็นผู้ถือกรรมสิทธิ์  ข้อความ   \n",
       "141  OtherAppSpec                            วิธี/แอปพลิเคชัน อื่น ๆ  ข้อความ   \n",
       "\n",
       "    Value  \n",
       "1     NaN  \n",
       "2     NaN  \n",
       "3     NaN  \n",
       "6     NaN  \n",
       "22    NaN  \n",
       "27    NaN  \n",
       "39    NaN  \n",
       "47    NaN  \n",
       "74    NaN  \n",
       "103   NaN  \n",
       "106   NaN  \n",
       "107   NaN  \n",
       "108   NaN  \n",
       "109   NaN  \n",
       "110   NaN  \n",
       "111   NaN  \n",
       "112   NaN  \n",
       "113   NaN  \n",
       "114   NaN  \n",
       "115   NaN  \n",
       "127   NaN  \n",
       "131   NaN  \n",
       "141   NaN  "
      ]
     },
     "execution_count": 393,
     "metadata": {},
     "output_type": "execute_result"
    }
   ],
   "source": [
    "data_description[data_description['Type']=='ข้อความ']"
   ]
  },
  {
   "cell_type": "code",
   "execution_count": 395,
   "id": "a0cae370",
   "metadata": {},
   "outputs": [
    {
     "data": {
      "text/html": [
       "<div>\n",
       "<style scoped>\n",
       "    .dataframe tbody tr th:only-of-type {\n",
       "        vertical-align: middle;\n",
       "    }\n",
       "\n",
       "    .dataframe tbody tr th {\n",
       "        vertical-align: top;\n",
       "    }\n",
       "\n",
       "    .dataframe thead th {\n",
       "        text-align: right;\n",
       "    }\n",
       "</style>\n",
       "<table border=\"1\" class=\"dataframe\">\n",
       "  <thead>\n",
       "    <tr style=\"text-align: right;\">\n",
       "      <th></th>\n",
       "      <th>Column</th>\n",
       "      <th>Description</th>\n",
       "      <th>Type</th>\n",
       "      <th>Value</th>\n",
       "    </tr>\n",
       "  </thead>\n",
       "  <tbody>\n",
       "    <tr>\n",
       "      <th>5</th>\n",
       "      <td>Q1_OccStatus</td>\n",
       "      <td>1. อาชีพที่เป็นรายได้หลักในปัจจุบัน</td>\n",
       "      <td>1-6</td>\n",
       "      <td>1: ธุรกิจส่วนตัว/ ค้าขาย หรือบริการรายย่อย  2:...</td>\n",
       "    </tr>\n",
       "    <tr>\n",
       "      <th>6</th>\n",
       "      <td>Q1_Occ</td>\n",
       "      <td>อาชีพ</td>\n",
       "      <td>ข้อความ</td>\n",
       "      <td>NaN</td>\n",
       "    </tr>\n",
       "    <tr>\n",
       "      <th>7</th>\n",
       "      <td>Q1_OccCode</td>\n",
       "      <td>รหัสอาชีพ (ดู occupation)</td>\n",
       "      <td>A1-Q4</td>\n",
       "      <td>NaN</td>\n",
       "    </tr>\n",
       "    <tr>\n",
       "      <th>8</th>\n",
       "      <td>Q1_OccInd</td>\n",
       "      <td>รหัสอุตสาหกรรม (ดู occupation)</td>\n",
       "      <td>A-Q</td>\n",
       "      <td>NaN</td>\n",
       "    </tr>\n",
       "    <tr>\n",
       "      <th>9</th>\n",
       "      <td>Q1_IndBD_1</td>\n",
       "      <td>รูปแบบอุตสาหกรรมการผลิต/ การขายส่งขายปลีก (ดู ...</td>\n",
       "      <td>BD1-BD30</td>\n",
       "      <td>NaN</td>\n",
       "    </tr>\n",
       "    <tr>\n",
       "      <th>10</th>\n",
       "      <td>Q1_IndBD_2</td>\n",
       "      <td>รูปแบบอุตสาหกรรมการผลิต/ การขายส่งขายปลีก (ดู ...</td>\n",
       "      <td>BD1-BD30</td>\n",
       "      <td>NaN</td>\n",
       "    </tr>\n",
       "    <tr>\n",
       "      <th>11</th>\n",
       "      <td>Q1_IndBD_3</td>\n",
       "      <td>รูปแบบอุตสาหกรรมการผลิต/ การขายส่งขายปลีก (ดู ...</td>\n",
       "      <td>BD1-BD30</td>\n",
       "      <td>NaN</td>\n",
       "    </tr>\n",
       "    <tr>\n",
       "      <th>12</th>\n",
       "      <td>Q1_Occ_Year</td>\n",
       "      <td>ระยะเวลาที่ทำอาชีพ</td>\n",
       "      <td>ปี</td>\n",
       "      <td>NaN</td>\n",
       "    </tr>\n",
       "    <tr>\n",
       "      <th>13</th>\n",
       "      <td>Q1_OCC_A</td>\n",
       "      <td>กรณีสัญญาจ้างชั่วคราว โปรดระบุระยะเวลาที่เหลือ...</td>\n",
       "      <td>0,1</td>\n",
       "      <td>0: ไม่ระบุ 1: ระบุ</td>\n",
       "    </tr>\n",
       "    <tr>\n",
       "      <th>14</th>\n",
       "      <td>Q1_OCC_A_Month</td>\n",
       "      <td>กรณีสัญญาจ้างชั่วคราว โปรดระบุระยะเวลาที่เหลือ...</td>\n",
       "      <td>เดือน</td>\n",
       "      <td>NaN</td>\n",
       "    </tr>\n",
       "  </tbody>\n",
       "</table>\n",
       "</div>"
      ],
      "text/plain": [
       "            Column                                        Description  \\\n",
       "5     Q1_OccStatus                1. อาชีพที่เป็นรายได้หลักในปัจจุบัน   \n",
       "6           Q1_Occ                                              อาชีพ   \n",
       "7       Q1_OccCode                          รหัสอาชีพ (ดู occupation)   \n",
       "8        Q1_OccInd                     รหัสอุตสาหกรรม (ดู occupation)   \n",
       "9       Q1_IndBD_1  รูปแบบอุตสาหกรรมการผลิต/ การขายส่งขายปลีก (ดู ...   \n",
       "10      Q1_IndBD_2  รูปแบบอุตสาหกรรมการผลิต/ การขายส่งขายปลีก (ดู ...   \n",
       "11      Q1_IndBD_3  รูปแบบอุตสาหกรรมการผลิต/ การขายส่งขายปลีก (ดู ...   \n",
       "12     Q1_Occ_Year                                 ระยะเวลาที่ทำอาชีพ   \n",
       "13        Q1_OCC_A  กรณีสัญญาจ้างชั่วคราว โปรดระบุระยะเวลาที่เหลือ...   \n",
       "14  Q1_OCC_A_Month  กรณีสัญญาจ้างชั่วคราว โปรดระบุระยะเวลาที่เหลือ...   \n",
       "\n",
       "        Type                                              Value  \n",
       "5        1-6  1: ธุรกิจส่วนตัว/ ค้าขาย หรือบริการรายย่อย  2:...  \n",
       "6    ข้อความ                                                NaN  \n",
       "7      A1-Q4                                                NaN  \n",
       "8        A-Q                                                NaN  \n",
       "9   BD1-BD30                                                NaN  \n",
       "10  BD1-BD30                                                NaN  \n",
       "11  BD1-BD30                                                NaN  \n",
       "12        ปี                                                NaN  \n",
       "13       0,1                                 0: ไม่ระบุ 1: ระบุ  \n",
       "14     เดือน                                                NaN  "
      ]
     },
     "execution_count": 395,
     "metadata": {},
     "output_type": "execute_result"
    }
   ],
   "source": [
    "data_description[5:15]"
   ]
  },
  {
   "cell_type": "code",
   "execution_count": 266,
   "id": "abf32798",
   "metadata": {},
   "outputs": [
    {
     "data": {
      "text/plain": [
       "0,1            47\n",
       "จำนวนเงิน      24\n",
       "ข้อความ        23\n",
       "1,2            10\n",
       "1-3             5\n",
       "ปี              4\n",
       "เดือน           4\n",
       "1-6             4\n",
       "BD1-BD30        3\n",
       "A-Q             3\n",
       "A1-Q4           3\n",
       "1-7             3\n",
       "คน              2\n",
       "1-5             2\n",
       "จำนวนบัญชี      2\n",
       "จำนวนอาชีพ      1\n",
       "ครั้ง           1\n",
       "วัน             1\n",
       "เปอร์เซ็นต์     1\n",
       "Name: Type, dtype: int64"
      ]
     },
     "execution_count": 266,
     "metadata": {},
     "output_type": "execute_result"
    }
   ],
   "source": [
    "data_description['Type'].value_counts()"
   ]
  },
  {
   "cell_type": "code",
   "execution_count": 304,
   "id": "650f543f",
   "metadata": {},
   "outputs": [],
   "source": [
    "import pandas as pd\n",
    "from sklearn.metrics import mean_absolute_error\n",
    "from sklearn.model_selection import train_test_split\n",
    "from sklearn.tree import DecisionTreeRegressor\n",
    "from sklearn import preprocessing\n"
   ]
  },
  {
   "cell_type": "code",
   "execution_count": 311,
   "id": "1d0f1ce3",
   "metadata": {},
   "outputs": [],
   "source": [
    "y=train_target['Car']\n",
    "X=train_data.iloc[:,selected_c1]"
   ]
  },
  {
   "cell_type": "code",
   "execution_count": 315,
   "id": "97ea48cf",
   "metadata": {},
   "outputs": [
    {
     "data": {
      "text/plain": [
       "int64      70\n",
       "float64     5\n",
       "int32       2\n",
       "dtype: int64"
      ]
     },
     "execution_count": 315,
     "metadata": {},
     "output_type": "execute_result"
    }
   ],
   "source": [
    "X.dtypes.value_counts()"
   ]
  },
  {
   "cell_type": "code",
   "execution_count": 275,
   "id": "71c9fe34",
   "metadata": {},
   "outputs": [
    {
     "data": {
      "text/plain": [
       "Q1_OccCode    object\n",
       "Q1_OccInd     object\n",
       "dtype: object"
      ]
     },
     "execution_count": 275,
     "metadata": {},
     "output_type": "execute_result"
    }
   ],
   "source": [
    "X.dtypes[X.dtypes=='object']"
   ]
  },
  {
   "cell_type": "code",
   "execution_count": 271,
   "id": "a35f7295",
   "metadata": {
    "collapsed": true
   },
   "outputs": [
    {
     "data": {
      "text/plain": [
       "0        L\n",
       "1        D\n",
       "2        D\n",
       "3        C\n",
       "4        L\n",
       "        ..\n",
       "20961    D\n",
       "20962    D\n",
       "20963    D\n",
       "20964    P\n",
       "20965    L\n",
       "Name: Q1_OccInd, Length: 20966, dtype: object"
      ]
     },
     "execution_count": 271,
     "metadata": {},
     "output_type": "execute_result"
    }
   ],
   "source": [
    "X['Q1_OccInd']"
   ]
  },
  {
   "cell_type": "code",
   "execution_count": 244,
   "id": "fc14a0aa",
   "metadata": {
    "collapsed": true
   },
   "outputs": [
    {
     "data": {
      "text/plain": [
       "999     13849\n",
       "888      6976\n",
       "BD2        66\n",
       "BD1        36\n",
       "BD27        6\n",
       "BD25        4\n",
       "BD6         4\n",
       "BD15        4\n",
       "BD5         4\n",
       "BD23        3\n",
       "BD26        2\n",
       "BD13        2\n",
       "BD29        2\n",
       "BD3         2\n",
       "BD8         2\n",
       "BD28        1\n",
       "BD14        1\n",
       "BD17        1\n",
       "BD4         1\n",
       "Name: Q1_IndBD_2, dtype: int64"
      ]
     },
     "execution_count": 244,
     "metadata": {},
     "output_type": "execute_result"
    }
   ],
   "source": [
    "X['Q1_IndBD_2'].value_counts()"
   ]
  },
  {
   "cell_type": "code",
   "execution_count": 250,
   "id": "a9975036",
   "metadata": {},
   "outputs": [
    {
     "data": {
      "text/plain": [
       "10"
      ]
     },
     "execution_count": 250,
     "metadata": {},
     "output_type": "execute_result"
    }
   ],
   "source": [
    "train_data.columns.get_loc('Q1_IndBD_2')"
   ]
  },
  {
   "cell_type": "code",
   "execution_count": 308,
   "id": "e19a058a",
   "metadata": {
    "collapsed": true
   },
   "outputs": [
    {
     "data": {
      "text/plain": [
       "D4     8714\n",
       "D1     4941\n",
       "F5     1254\n",
       "F6      825\n",
       "A1      427\n",
       "       ... \n",
       "H2        1\n",
       "O14       1\n",
       "K12       1\n",
       "K13       1\n",
       "O8        1\n",
       "Name: Q1_OccCode, Length: 132, dtype: int64"
      ]
     },
     "execution_count": 308,
     "metadata": {},
     "output_type": "execute_result"
    }
   ],
   "source": [
    "X['Q1_OccCode'].value_counts()"
   ]
  },
  {
   "cell_type": "code",
   "execution_count": 314,
   "id": "87fd0095",
   "metadata": {},
   "outputs": [
    {
     "name": "stderr",
     "output_type": "stream",
     "text": [
      "C:\\Users\\latte\\AppData\\Local\\Temp\\ipykernel_1388\\3928055791.py:7: SettingWithCopyWarning: \n",
      "A value is trying to be set on a copy of a slice from a DataFrame.\n",
      "Try using .loc[row_indexer,col_indexer] = value instead\n",
      "\n",
      "See the caveats in the documentation: https://pandas.pydata.org/pandas-docs/stable/user_guide/indexing.html#returning-a-view-versus-a-copy\n",
      "  X['Q1_OccInd'] = le1.transform(train_data['Q1_OccInd'])\n",
      "C:\\Users\\latte\\AppData\\Local\\Temp\\ipykernel_1388\\3928055791.py:8: SettingWithCopyWarning: \n",
      "A value is trying to be set on a copy of a slice from a DataFrame.\n",
      "Try using .loc[row_indexer,col_indexer] = value instead\n",
      "\n",
      "See the caveats in the documentation: https://pandas.pydata.org/pandas-docs/stable/user_guide/indexing.html#returning-a-view-versus-a-copy\n",
      "  X['Q1_OccCode'] = le2.transform(train_data['Q1_OccCode'])\n"
     ]
    }
   ],
   "source": [
    "le1 = preprocessing.LabelEncoder()\n",
    "le1.fit(train_data['Q1_OccInd'])\n",
    "\n",
    "le2 = preprocessing.LabelEncoder()\n",
    "le2.fit(train_data['Q1_OccCode'])\n",
    "\n",
    "X['Q1_OccInd'] = le1.transform(train_data['Q1_OccInd'])\n",
    "X['Q1_OccCode'] = le2.transform(train_data['Q1_OccCode'])"
   ]
  },
  {
   "cell_type": "code",
   "execution_count": 302,
   "id": "bc421344",
   "metadata": {},
   "outputs": [
    {
     "data": {
      "text/plain": [
       "0        17\n",
       "1         5\n",
       "2         5\n",
       "3         3\n",
       "4        17\n",
       "         ..\n",
       "20961     5\n",
       "20962     5\n",
       "20963     5\n",
       "20964    22\n",
       "20965    17\n",
       "Name: Q1_OccInd, Length: 20966, dtype: int32"
      ]
     },
     "execution_count": 302,
     "metadata": {},
     "output_type": "execute_result"
    }
   ],
   "source": [
    "X['Q1_OccInd']"
   ]
  },
  {
   "cell_type": "code",
   "execution_count": 390,
   "id": "255582d1",
   "metadata": {},
   "outputs": [
    {
     "name": "stdout",
     "output_type": "stream",
     "text": [
      "0.7715421303656598\n"
     ]
    }
   ],
   "source": [
    "from sklearn.ensemble import RandomForestClassifier\n",
    "from sklearn.metrics import mean_absolute_error,accuracy_score\n",
    "\n",
    "\n",
    "train_X, val_X, train_y, val_y = train_test_split(X, y,test_size=0.3, random_state=1)\n",
    "\n",
    "my_model =RandomForestClassifier()\n",
    "\n",
    "my_model.fit(train_X, train_y)\n",
    "melb_preds = my_model.predict(val_X)\n",
    "print(accuracy_score(val_y, melb_preds))"
   ]
  },
  {
   "cell_type": "code",
   "execution_count": 391,
   "id": "4df10e38",
   "metadata": {},
   "outputs": [
    {
     "name": "stdout",
     "output_type": "stream",
     "text": [
      "0.7701112877583466\n"
     ]
    }
   ],
   "source": [
    "import  xgboost as xgb\n",
    "\n",
    "xgb_model = xgb.XGBClassifier(objective=\"binary:logistic\", random_state=42,eval_metric=\"auc\",booster='gbtree')\n",
    "my_model.fit(train_X, train_y)\n",
    "melb_preds = my_model.predict(val_X)\n",
    "\n",
    "print(accuracy_score(val_y, melb_preds))"
   ]
  },
  {
   "cell_type": "code",
   "execution_count": 388,
   "id": "1756d803",
   "metadata": {},
   "outputs": [
    {
     "data": {
      "text/plain": [
       "array([0, 0, 0, ..., 1, 1, 1], dtype=int64)"
      ]
     },
     "execution_count": 388,
     "metadata": {},
     "output_type": "execute_result"
    }
   ],
   "source": [
    "melb_preds"
   ]
  },
  {
   "cell_type": "code",
   "execution_count": 384,
   "id": "2f730ffc",
   "metadata": {},
   "outputs": [
    {
     "name": "stdout",
     "output_type": "stream",
     "text": [
      "0.7701039778689307\n"
     ]
    }
   ],
   "source": [
    "print(accuracy_score(val_y, melb_preds))"
   ]
  },
  {
   "cell_type": "code",
   "execution_count": 359,
   "id": "90b5290e",
   "metadata": {},
   "outputs": [
    {
     "data": {
      "text/plain": [
       "17898    1\n",
       "11268    0\n",
       "6439     0\n",
       "19307    1\n",
       "19316    1\n",
       "        ..\n",
       "10955    1\n",
       "17289    0\n",
       "5192     0\n",
       "12172    0\n",
       "235      0\n",
       "Name: Car, Length: 10483, dtype: int64"
      ]
     },
     "execution_count": 359,
     "metadata": {},
     "output_type": "execute_result"
    }
   ],
   "source": [
    "train_y"
   ]
  },
  {
   "cell_type": "code",
   "execution_count": 322,
   "id": "11929882",
   "metadata": {},
   "outputs": [
    {
     "data": {
      "text/plain": [
       "0        0\n",
       "1        0\n",
       "2        0\n",
       "3        0\n",
       "4        0\n",
       "        ..\n",
       "20961    0\n",
       "20962    0\n",
       "20963    1\n",
       "20964    0\n",
       "20965    0\n",
       "Name: Car, Length: 20966, dtype: int64"
      ]
     },
     "execution_count": 322,
     "metadata": {},
     "output_type": "execute_result"
    }
   ],
   "source": [
    "y"
   ]
  },
  {
   "cell_type": "code",
   "execution_count": null,
   "id": "ffd1887c",
   "metadata": {},
   "outputs": [],
   "source": []
  }
 ],
 "metadata": {
  "kernelspec": {
   "display_name": "Python 3 (ipykernel)",
   "language": "python",
   "name": "python3"
  },
  "language_info": {
   "codemirror_mode": {
    "name": "ipython",
    "version": 3
   },
   "file_extension": ".py",
   "mimetype": "text/x-python",
   "name": "python",
   "nbconvert_exporter": "python",
   "pygments_lexer": "ipython3",
   "version": "3.10.8"
  }
 },
 "nbformat": 4,
 "nbformat_minor": 5
}
