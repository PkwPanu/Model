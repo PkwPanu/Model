{
 "cells": [
  {
   "cell_type": "code",
   "execution_count": 2,
   "id": "9495842f",
   "metadata": {},
   "outputs": [],
   "source": [
    "import pandas as pd\n",
    "from sklearn.metrics import accuracy_score\n",
    "from sklearn.model_selection import train_test_split\n",
    "from sklearn import preprocessing\n",
    "from sklearn.ensemble import RandomForestClassifier\n"
   ]
  },
  {
   "cell_type": "code",
   "execution_count": 239,
   "id": "69f7fadd",
   "metadata": {},
   "outputs": [
    {
     "name": "stderr",
     "output_type": "stream",
     "text": [
      "C:\\Users\\latte\\AppData\\Local\\Temp\\ipykernel_7616\\1420814700.py:1: DtypeWarning: Columns (12,28,29,30,116,128) have mixed types. Specify dtype option on import or set low_memory=False.\n",
      "  train_data =pd.read_csv('train_data.csv',index_col=0)\n",
      "C:\\Users\\latte\\AppData\\Local\\Temp\\ipykernel_7616\\1420814700.py:3: DtypeWarning: Columns (12) have mixed types. Specify dtype option on import or set low_memory=False.\n",
      "  test_data =pd.read_csv('test_data.csv',index_col=0)\n"
     ]
    }
   ],
   "source": [
    "train_data =pd.read_csv('train_data.csv',index_col=0)\n",
    "train_target =pd.read_csv('train_target.csv',index_col=0)\n",
    "test_data =pd.read_csv('test_data.csv',index_col=0)\n",
    "data_description =pd.read_csv('data_description.csv')"
   ]
  },
  {
   "cell_type": "code",
   "execution_count": 18,
   "id": "863fa09b",
   "metadata": {},
   "outputs": [
    {
     "data": {
      "text/plain": [
       "False"
      ]
     },
     "execution_count": 18,
     "metadata": {},
     "output_type": "execute_result"
    }
   ],
   "source": [
    "train_data.isna().any().any()"
   ]
  },
  {
   "cell_type": "code",
   "execution_count": 31,
   "id": "534fb67b",
   "metadata": {},
   "outputs": [
    {
     "data": {
      "text/plain": [
       "int64      106\n",
       "object      32\n",
       "float64      5\n",
       "dtype: int64"
      ]
     },
     "execution_count": 31,
     "metadata": {},
     "output_type": "execute_result"
    }
   ],
   "source": [
    "train_data.dtypes.value_counts()"
   ]
  },
  {
   "cell_type": "markdown",
   "id": "395e651c",
   "metadata": {},
   "source": [
    "# use every data"
   ]
  },
  {
   "cell_type": "code",
   "execution_count": 242,
   "id": "750eb8be",
   "metadata": {},
   "outputs": [
    {
     "name": "stderr",
     "output_type": "stream",
     "text": [
      "C:\\Users\\latte\\AppData\\Local\\Temp\\ipykernel_7616\\1557229954.py:1: DtypeWarning: Columns (12,28,29,30,116,128) have mixed types. Specify dtype option on import or set low_memory=False.\n",
      "  train_data =pd.read_csv('train_data.csv',index_col=0)\n",
      "C:\\Users\\latte\\AppData\\Local\\Temp\\ipykernel_7616\\1557229954.py:3: DtypeWarning: Columns (12) have mixed types. Specify dtype option on import or set low_memory=False.\n",
      "  test_data =pd.read_csv('test_data.csv',index_col=0)\n"
     ]
    }
   ],
   "source": [
    "train_data =pd.read_csv('train_data.csv',index_col=0)\n",
    "train_target =pd.read_csv('train_target.csv',index_col=0)\n",
    "test_data =pd.read_csv('test_data.csv',index_col=0)\n",
    "data_description =pd.read_csv('data_description.csv')\n",
    "\n",
    "y=train_target\n",
    "X=train_data\n",
    "X_test=test_data"
   ]
  },
  {
   "cell_type": "code",
   "execution_count": 243,
   "id": "225f5387",
   "metadata": {
    "scrolled": true
   },
   "outputs": [
    {
     "name": "stderr",
     "output_type": "stream",
     "text": [
      "C:\\Users\\latte\\AppData\\Local\\Temp\\ipykernel_7616\\1288320156.py:7: FutureWarning: The series.append method is deprecated and will be removed from pandas in a future version. Use pandas.concat instead.\n",
      "  le.fit(X[X_test.columns[i]].append(X_test[X_test.columns[i]]))\n",
      "C:\\Users\\latte\\AppData\\Local\\Temp\\ipykernel_7616\\1288320156.py:7: FutureWarning: The series.append method is deprecated and will be removed from pandas in a future version. Use pandas.concat instead.\n",
      "  le.fit(X[X_test.columns[i]].append(X_test[X_test.columns[i]]))\n",
      "C:\\Users\\latte\\AppData\\Local\\Temp\\ipykernel_7616\\1288320156.py:7: FutureWarning: The series.append method is deprecated and will be removed from pandas in a future version. Use pandas.concat instead.\n",
      "  le.fit(X[X_test.columns[i]].append(X_test[X_test.columns[i]]))\n",
      "C:\\Users\\latte\\AppData\\Local\\Temp\\ipykernel_7616\\1288320156.py:7: FutureWarning: The series.append method is deprecated and will be removed from pandas in a future version. Use pandas.concat instead.\n",
      "  le.fit(X[X_test.columns[i]].append(X_test[X_test.columns[i]]))\n",
      "C:\\Users\\latte\\AppData\\Local\\Temp\\ipykernel_7616\\1288320156.py:7: FutureWarning: The series.append method is deprecated and will be removed from pandas in a future version. Use pandas.concat instead.\n",
      "  le.fit(X[X_test.columns[i]].append(X_test[X_test.columns[i]]))\n",
      "C:\\Users\\latte\\AppData\\Local\\Temp\\ipykernel_7616\\1288320156.py:7: FutureWarning: The series.append method is deprecated and will be removed from pandas in a future version. Use pandas.concat instead.\n",
      "  le.fit(X[X_test.columns[i]].append(X_test[X_test.columns[i]]))\n",
      "C:\\Users\\latte\\AppData\\Local\\Temp\\ipykernel_7616\\1288320156.py:7: FutureWarning: The series.append method is deprecated and will be removed from pandas in a future version. Use pandas.concat instead.\n",
      "  le.fit(X[X_test.columns[i]].append(X_test[X_test.columns[i]]))\n",
      "C:\\Users\\latte\\AppData\\Local\\Temp\\ipykernel_7616\\1288320156.py:7: FutureWarning: The series.append method is deprecated and will be removed from pandas in a future version. Use pandas.concat instead.\n",
      "  le.fit(X[X_test.columns[i]].append(X_test[X_test.columns[i]]))\n",
      "C:\\Users\\latte\\AppData\\Local\\Temp\\ipykernel_7616\\1288320156.py:7: FutureWarning: The series.append method is deprecated and will be removed from pandas in a future version. Use pandas.concat instead.\n",
      "  le.fit(X[X_test.columns[i]].append(X_test[X_test.columns[i]]))\n",
      "C:\\Users\\latte\\AppData\\Local\\Temp\\ipykernel_7616\\1288320156.py:7: FutureWarning: The series.append method is deprecated and will be removed from pandas in a future version. Use pandas.concat instead.\n",
      "  le.fit(X[X_test.columns[i]].append(X_test[X_test.columns[i]]))\n",
      "C:\\Users\\latte\\AppData\\Local\\Temp\\ipykernel_7616\\1288320156.py:7: FutureWarning: The series.append method is deprecated and will be removed from pandas in a future version. Use pandas.concat instead.\n",
      "  le.fit(X[X_test.columns[i]].append(X_test[X_test.columns[i]]))\n",
      "C:\\Users\\latte\\AppData\\Local\\Temp\\ipykernel_7616\\1288320156.py:7: FutureWarning: The series.append method is deprecated and will be removed from pandas in a future version. Use pandas.concat instead.\n",
      "  le.fit(X[X_test.columns[i]].append(X_test[X_test.columns[i]]))\n",
      "C:\\Users\\latte\\AppData\\Local\\Temp\\ipykernel_7616\\1288320156.py:7: FutureWarning: The series.append method is deprecated and will be removed from pandas in a future version. Use pandas.concat instead.\n",
      "  le.fit(X[X_test.columns[i]].append(X_test[X_test.columns[i]]))\n",
      "C:\\Users\\latte\\AppData\\Local\\Temp\\ipykernel_7616\\1288320156.py:7: FutureWarning: The series.append method is deprecated and will be removed from pandas in a future version. Use pandas.concat instead.\n",
      "  le.fit(X[X_test.columns[i]].append(X_test[X_test.columns[i]]))\n",
      "C:\\Users\\latte\\AppData\\Local\\Temp\\ipykernel_7616\\1288320156.py:7: FutureWarning: The series.append method is deprecated and will be removed from pandas in a future version. Use pandas.concat instead.\n",
      "  le.fit(X[X_test.columns[i]].append(X_test[X_test.columns[i]]))\n",
      "C:\\Users\\latte\\AppData\\Local\\Temp\\ipykernel_7616\\1288320156.py:7: FutureWarning: The series.append method is deprecated and will be removed from pandas in a future version. Use pandas.concat instead.\n",
      "  le.fit(X[X_test.columns[i]].append(X_test[X_test.columns[i]]))\n",
      "C:\\Users\\latte\\AppData\\Local\\Temp\\ipykernel_7616\\1288320156.py:7: FutureWarning: The series.append method is deprecated and will be removed from pandas in a future version. Use pandas.concat instead.\n",
      "  le.fit(X[X_test.columns[i]].append(X_test[X_test.columns[i]]))\n",
      "C:\\Users\\latte\\AppData\\Local\\Temp\\ipykernel_7616\\1288320156.py:7: FutureWarning: The series.append method is deprecated and will be removed from pandas in a future version. Use pandas.concat instead.\n",
      "  le.fit(X[X_test.columns[i]].append(X_test[X_test.columns[i]]))\n",
      "C:\\Users\\latte\\AppData\\Local\\Temp\\ipykernel_7616\\1288320156.py:7: FutureWarning: The series.append method is deprecated and will be removed from pandas in a future version. Use pandas.concat instead.\n",
      "  le.fit(X[X_test.columns[i]].append(X_test[X_test.columns[i]]))\n",
      "C:\\Users\\latte\\AppData\\Local\\Temp\\ipykernel_7616\\1288320156.py:7: FutureWarning: The series.append method is deprecated and will be removed from pandas in a future version. Use pandas.concat instead.\n",
      "  le.fit(X[X_test.columns[i]].append(X_test[X_test.columns[i]]))\n",
      "C:\\Users\\latte\\AppData\\Local\\Temp\\ipykernel_7616\\1288320156.py:7: FutureWarning: The series.append method is deprecated and will be removed from pandas in a future version. Use pandas.concat instead.\n",
      "  le.fit(X[X_test.columns[i]].append(X_test[X_test.columns[i]]))\n",
      "C:\\Users\\latte\\AppData\\Local\\Temp\\ipykernel_7616\\1288320156.py:7: FutureWarning: The series.append method is deprecated and will be removed from pandas in a future version. Use pandas.concat instead.\n",
      "  le.fit(X[X_test.columns[i]].append(X_test[X_test.columns[i]]))\n",
      "C:\\Users\\latte\\AppData\\Local\\Temp\\ipykernel_7616\\1288320156.py:7: FutureWarning: The series.append method is deprecated and will be removed from pandas in a future version. Use pandas.concat instead.\n",
      "  le.fit(X[X_test.columns[i]].append(X_test[X_test.columns[i]]))\n",
      "C:\\Users\\latte\\AppData\\Local\\Temp\\ipykernel_7616\\1288320156.py:7: FutureWarning: The series.append method is deprecated and will be removed from pandas in a future version. Use pandas.concat instead.\n",
      "  le.fit(X[X_test.columns[i]].append(X_test[X_test.columns[i]]))\n",
      "C:\\Users\\latte\\AppData\\Local\\Temp\\ipykernel_7616\\1288320156.py:7: FutureWarning: The series.append method is deprecated and will be removed from pandas in a future version. Use pandas.concat instead.\n",
      "  le.fit(X[X_test.columns[i]].append(X_test[X_test.columns[i]]))\n",
      "C:\\Users\\latte\\AppData\\Local\\Temp\\ipykernel_7616\\1288320156.py:7: FutureWarning: The series.append method is deprecated and will be removed from pandas in a future version. Use pandas.concat instead.\n",
      "  le.fit(X[X_test.columns[i]].append(X_test[X_test.columns[i]]))\n",
      "C:\\Users\\latte\\AppData\\Local\\Temp\\ipykernel_7616\\1288320156.py:7: FutureWarning: The series.append method is deprecated and will be removed from pandas in a future version. Use pandas.concat instead.\n",
      "  le.fit(X[X_test.columns[i]].append(X_test[X_test.columns[i]]))\n",
      "C:\\Users\\latte\\AppData\\Local\\Temp\\ipykernel_7616\\1288320156.py:7: FutureWarning: The series.append method is deprecated and will be removed from pandas in a future version. Use pandas.concat instead.\n",
      "  le.fit(X[X_test.columns[i]].append(X_test[X_test.columns[i]]))\n",
      "C:\\Users\\latte\\AppData\\Local\\Temp\\ipykernel_7616\\1288320156.py:7: FutureWarning: The series.append method is deprecated and will be removed from pandas in a future version. Use pandas.concat instead.\n",
      "  le.fit(X[X_test.columns[i]].append(X_test[X_test.columns[i]]))\n"
     ]
    },
    {
     "name": "stdout",
     "output_type": "stream",
     "text": [
      "1\n",
      "2\n",
      "3\n",
      "6\n",
      "7\n",
      "8\n",
      "9\n",
      "10\n",
      "11\n",
      "22\n",
      "23\n",
      "24\n",
      "27\n",
      "28\n",
      "29\n",
      "39\n",
      "47\n",
      "74\n",
      "103\n",
      "106\n",
      "107\n",
      "108\n",
      "109\n",
      "110\n",
      "111\n",
      "112\n",
      "113\n",
      "114\n",
      "115\n",
      "127\n",
      "131\n",
      "141\n"
     ]
    },
    {
     "name": "stderr",
     "output_type": "stream",
     "text": [
      "C:\\Users\\latte\\AppData\\Local\\Temp\\ipykernel_7616\\1288320156.py:7: FutureWarning: The series.append method is deprecated and will be removed from pandas in a future version. Use pandas.concat instead.\n",
      "  le.fit(X[X_test.columns[i]].append(X_test[X_test.columns[i]]))\n",
      "C:\\Users\\latte\\AppData\\Local\\Temp\\ipykernel_7616\\1288320156.py:7: FutureWarning: The series.append method is deprecated and will be removed from pandas in a future version. Use pandas.concat instead.\n",
      "  le.fit(X[X_test.columns[i]].append(X_test[X_test.columns[i]]))\n",
      "C:\\Users\\latte\\AppData\\Local\\Temp\\ipykernel_7616\\1288320156.py:7: FutureWarning: The series.append method is deprecated and will be removed from pandas in a future version. Use pandas.concat instead.\n",
      "  le.fit(X[X_test.columns[i]].append(X_test[X_test.columns[i]]))\n"
     ]
    }
   ],
   "source": [
    "for i in range(train_data.shape[1]):\n",
    "    if train_data.iloc[:,i].dtypes=='O':\n",
    "        \n",
    "        X[X_test.columns[i]]=X[X_test.columns[i]].astype(str)\n",
    "        X_test[X_test.columns[i]]=X_test[X_test.columns[i]].astype(str)\n",
    "        le = preprocessing.LabelEncoder()\n",
    "        le.fit(X[X_test.columns[i]].append(X_test[X_test.columns[i]]))\n",
    "        \n",
    "        X[X_test.columns[i]] = le.transform(X[X_test.columns[i]])\n",
    "        X_test[X_test.columns[i]] = le.transform(X_test[X_test.columns[i]])"
   ]
  },
  {
   "cell_type": "code",
   "execution_count": 245,
   "id": "57923857",
   "metadata": {},
   "outputs": [
    {
     "data": {
      "text/html": [
       "<div>\n",
       "<style scoped>\n",
       "    .dataframe tbody tr th:only-of-type {\n",
       "        vertical-align: middle;\n",
       "    }\n",
       "\n",
       "    .dataframe tbody tr th {\n",
       "        vertical-align: top;\n",
       "    }\n",
       "\n",
       "    .dataframe thead th {\n",
       "        text-align: right;\n",
       "    }\n",
       "</style>\n",
       "<table border=\"1\" class=\"dataframe\">\n",
       "  <thead>\n",
       "    <tr style=\"text-align: right;\">\n",
       "      <th></th>\n",
       "      <th>Area</th>\n",
       "      <th>SubDistrict</th>\n",
       "      <th>District</th>\n",
       "      <th>Province</th>\n",
       "      <th>Region</th>\n",
       "      <th>Q1_OccStatus</th>\n",
       "      <th>Q1_Occ</th>\n",
       "      <th>Q1_OccCode</th>\n",
       "      <th>Q1_OccInd</th>\n",
       "      <th>Q1_IndBD_1</th>\n",
       "      <th>...</th>\n",
       "      <th>Line_Level</th>\n",
       "      <th>Moblie</th>\n",
       "      <th>Facebook</th>\n",
       "      <th>Instragram</th>\n",
       "      <th>Tiktok</th>\n",
       "      <th>Youtube</th>\n",
       "      <th>Twitter</th>\n",
       "      <th>OtherApp</th>\n",
       "      <th>OtherAppSpec</th>\n",
       "      <th>NoSocial</th>\n",
       "    </tr>\n",
       "    <tr>\n",
       "      <th>Id</th>\n",
       "      <th></th>\n",
       "      <th></th>\n",
       "      <th></th>\n",
       "      <th></th>\n",
       "      <th></th>\n",
       "      <th></th>\n",
       "      <th></th>\n",
       "      <th></th>\n",
       "      <th></th>\n",
       "      <th></th>\n",
       "      <th></th>\n",
       "      <th></th>\n",
       "      <th></th>\n",
       "      <th></th>\n",
       "      <th></th>\n",
       "      <th></th>\n",
       "      <th></th>\n",
       "      <th></th>\n",
       "      <th></th>\n",
       "      <th></th>\n",
       "      <th></th>\n",
       "    </tr>\n",
       "  </thead>\n",
       "  <tbody>\n",
       "    <tr>\n",
       "      <th>0</th>\n",
       "      <td>2</td>\n",
       "      <td>251</td>\n",
       "      <td>94</td>\n",
       "      <td>8</td>\n",
       "      <td>4</td>\n",
       "      <td>3</td>\n",
       "      <td>3475</td>\n",
       "      <td>115</td>\n",
       "      <td>23</td>\n",
       "      <td>0</td>\n",
       "      <td>...</td>\n",
       "      <td>888</td>\n",
       "      <td>1</td>\n",
       "      <td>0</td>\n",
       "      <td>0</td>\n",
       "      <td>0</td>\n",
       "      <td>0</td>\n",
       "      <td>0</td>\n",
       "      <td>0</td>\n",
       "      <td>0</td>\n",
       "      <td>0</td>\n",
       "    </tr>\n",
       "    <tr>\n",
       "      <th>1</th>\n",
       "      <td>2</td>\n",
       "      <td>166</td>\n",
       "      <td>110</td>\n",
       "      <td>26</td>\n",
       "      <td>5</td>\n",
       "      <td>1</td>\n",
       "      <td>1429</td>\n",
       "      <td>14</td>\n",
       "      <td>5</td>\n",
       "      <td>2</td>\n",
       "      <td>...</td>\n",
       "      <td>888</td>\n",
       "      <td>1</td>\n",
       "      <td>0</td>\n",
       "      <td>0</td>\n",
       "      <td>0</td>\n",
       "      <td>0</td>\n",
       "      <td>0</td>\n",
       "      <td>0</td>\n",
       "      <td>0</td>\n",
       "      <td>0</td>\n",
       "    </tr>\n",
       "    <tr>\n",
       "      <th>2</th>\n",
       "      <td>3</td>\n",
       "      <td>58</td>\n",
       "      <td>167</td>\n",
       "      <td>9</td>\n",
       "      <td>5</td>\n",
       "      <td>1</td>\n",
       "      <td>1052</td>\n",
       "      <td>14</td>\n",
       "      <td>5</td>\n",
       "      <td>25</td>\n",
       "      <td>...</td>\n",
       "      <td>4</td>\n",
       "      <td>888</td>\n",
       "      <td>888</td>\n",
       "      <td>888</td>\n",
       "      <td>888</td>\n",
       "      <td>888</td>\n",
       "      <td>888</td>\n",
       "      <td>888</td>\n",
       "      <td>0</td>\n",
       "      <td>888</td>\n",
       "    </tr>\n",
       "    <tr>\n",
       "      <th>3</th>\n",
       "      <td>1</td>\n",
       "      <td>9</td>\n",
       "      <td>30</td>\n",
       "      <td>1</td>\n",
       "      <td>1</td>\n",
       "      <td>1</td>\n",
       "      <td>966</td>\n",
       "      <td>17</td>\n",
       "      <td>5</td>\n",
       "      <td>2</td>\n",
       "      <td>...</td>\n",
       "      <td>4</td>\n",
       "      <td>888</td>\n",
       "      <td>888</td>\n",
       "      <td>888</td>\n",
       "      <td>888</td>\n",
       "      <td>888</td>\n",
       "      <td>888</td>\n",
       "      <td>888</td>\n",
       "      <td>0</td>\n",
       "      <td>888</td>\n",
       "    </tr>\n",
       "    <tr>\n",
       "      <th>4</th>\n",
       "      <td>2</td>\n",
       "      <td>117</td>\n",
       "      <td>108</td>\n",
       "      <td>28</td>\n",
       "      <td>2</td>\n",
       "      <td>3</td>\n",
       "      <td>2</td>\n",
       "      <td>97</td>\n",
       "      <td>22</td>\n",
       "      <td>0</td>\n",
       "      <td>...</td>\n",
       "      <td>888</td>\n",
       "      <td>1</td>\n",
       "      <td>0</td>\n",
       "      <td>0</td>\n",
       "      <td>0</td>\n",
       "      <td>0</td>\n",
       "      <td>0</td>\n",
       "      <td>0</td>\n",
       "      <td>0</td>\n",
       "      <td>0</td>\n",
       "    </tr>\n",
       "    <tr>\n",
       "      <th>...</th>\n",
       "      <td>...</td>\n",
       "      <td>...</td>\n",
       "      <td>...</td>\n",
       "      <td>...</td>\n",
       "      <td>...</td>\n",
       "      <td>...</td>\n",
       "      <td>...</td>\n",
       "      <td>...</td>\n",
       "      <td>...</td>\n",
       "      <td>...</td>\n",
       "      <td>...</td>\n",
       "      <td>...</td>\n",
       "      <td>...</td>\n",
       "      <td>...</td>\n",
       "      <td>...</td>\n",
       "      <td>...</td>\n",
       "      <td>...</td>\n",
       "      <td>...</td>\n",
       "      <td>...</td>\n",
       "      <td>...</td>\n",
       "      <td>...</td>\n",
       "    </tr>\n",
       "    <tr>\n",
       "      <th>5195</th>\n",
       "      <td>3</td>\n",
       "      <td>152</td>\n",
       "      <td>168</td>\n",
       "      <td>10</td>\n",
       "      <td>3</td>\n",
       "      <td>1</td>\n",
       "      <td>643</td>\n",
       "      <td>17</td>\n",
       "      <td>5</td>\n",
       "      <td>21</td>\n",
       "      <td>...</td>\n",
       "      <td>4</td>\n",
       "      <td>888</td>\n",
       "      <td>888</td>\n",
       "      <td>888</td>\n",
       "      <td>888</td>\n",
       "      <td>888</td>\n",
       "      <td>888</td>\n",
       "      <td>888</td>\n",
       "      <td>0</td>\n",
       "      <td>888</td>\n",
       "    </tr>\n",
       "    <tr>\n",
       "      <th>5196</th>\n",
       "      <td>2</td>\n",
       "      <td>251</td>\n",
       "      <td>140</td>\n",
       "      <td>20</td>\n",
       "      <td>4</td>\n",
       "      <td>1</td>\n",
       "      <td>1416</td>\n",
       "      <td>17</td>\n",
       "      <td>5</td>\n",
       "      <td>2</td>\n",
       "      <td>...</td>\n",
       "      <td>2</td>\n",
       "      <td>888</td>\n",
       "      <td>888</td>\n",
       "      <td>888</td>\n",
       "      <td>888</td>\n",
       "      <td>888</td>\n",
       "      <td>888</td>\n",
       "      <td>888</td>\n",
       "      <td>0</td>\n",
       "      <td>888</td>\n",
       "    </tr>\n",
       "    <tr>\n",
       "      <th>5197</th>\n",
       "      <td>3</td>\n",
       "      <td>171</td>\n",
       "      <td>200</td>\n",
       "      <td>36</td>\n",
       "      <td>3</td>\n",
       "      <td>1</td>\n",
       "      <td>1396</td>\n",
       "      <td>17</td>\n",
       "      <td>5</td>\n",
       "      <td>2</td>\n",
       "      <td>...</td>\n",
       "      <td>888</td>\n",
       "      <td>1</td>\n",
       "      <td>1</td>\n",
       "      <td>0</td>\n",
       "      <td>0</td>\n",
       "      <td>1</td>\n",
       "      <td>0</td>\n",
       "      <td>0</td>\n",
       "      <td>0</td>\n",
       "      <td>0</td>\n",
       "    </tr>\n",
       "    <tr>\n",
       "      <th>5198</th>\n",
       "      <td>2</td>\n",
       "      <td>187</td>\n",
       "      <td>26</td>\n",
       "      <td>7</td>\n",
       "      <td>2</td>\n",
       "      <td>1</td>\n",
       "      <td>1481</td>\n",
       "      <td>17</td>\n",
       "      <td>5</td>\n",
       "      <td>2</td>\n",
       "      <td>...</td>\n",
       "      <td>888</td>\n",
       "      <td>1</td>\n",
       "      <td>0</td>\n",
       "      <td>0</td>\n",
       "      <td>0</td>\n",
       "      <td>0</td>\n",
       "      <td>0</td>\n",
       "      <td>0</td>\n",
       "      <td>0</td>\n",
       "      <td>0</td>\n",
       "    </tr>\n",
       "    <tr>\n",
       "      <th>5199</th>\n",
       "      <td>2</td>\n",
       "      <td>228</td>\n",
       "      <td>2</td>\n",
       "      <td>18</td>\n",
       "      <td>5</td>\n",
       "      <td>1</td>\n",
       "      <td>1639</td>\n",
       "      <td>17</td>\n",
       "      <td>5</td>\n",
       "      <td>27</td>\n",
       "      <td>...</td>\n",
       "      <td>888</td>\n",
       "      <td>1</td>\n",
       "      <td>1</td>\n",
       "      <td>0</td>\n",
       "      <td>0</td>\n",
       "      <td>0</td>\n",
       "      <td>0</td>\n",
       "      <td>0</td>\n",
       "      <td>0</td>\n",
       "      <td>0</td>\n",
       "    </tr>\n",
       "  </tbody>\n",
       "</table>\n",
       "<p>5200 rows × 143 columns</p>\n",
       "</div>"
      ],
      "text/plain": [
       "      Area  SubDistrict  District  Province  Region  Q1_OccStatus  Q1_Occ  \\\n",
       "Id                                                                          \n",
       "0        2          251        94         8       4             3    3475   \n",
       "1        2          166       110        26       5             1    1429   \n",
       "2        3           58       167         9       5             1    1052   \n",
       "3        1            9        30         1       1             1     966   \n",
       "4        2          117       108        28       2             3       2   \n",
       "...    ...          ...       ...       ...     ...           ...     ...   \n",
       "5195     3          152       168        10       3             1     643   \n",
       "5196     2          251       140        20       4             1    1416   \n",
       "5197     3          171       200        36       3             1    1396   \n",
       "5198     2          187        26         7       2             1    1481   \n",
       "5199     2          228         2        18       5             1    1639   \n",
       "\n",
       "      Q1_OccCode  Q1_OccInd  Q1_IndBD_1  ...  Line_Level  Moblie  Facebook  \\\n",
       "Id                                       ...                                 \n",
       "0            115         23           0  ...         888       1         0   \n",
       "1             14          5           2  ...         888       1         0   \n",
       "2             14          5          25  ...           4     888       888   \n",
       "3             17          5           2  ...           4     888       888   \n",
       "4             97         22           0  ...         888       1         0   \n",
       "...          ...        ...         ...  ...         ...     ...       ...   \n",
       "5195          17          5          21  ...           4     888       888   \n",
       "5196          17          5           2  ...           2     888       888   \n",
       "5197          17          5           2  ...         888       1         1   \n",
       "5198          17          5           2  ...         888       1         0   \n",
       "5199          17          5          27  ...         888       1         1   \n",
       "\n",
       "      Instragram  Tiktok  Youtube  Twitter  OtherApp  OtherAppSpec  NoSocial  \n",
       "Id                                                                            \n",
       "0              0       0        0        0         0             0         0  \n",
       "1              0       0        0        0         0             0         0  \n",
       "2            888     888      888      888       888             0       888  \n",
       "3            888     888      888      888       888             0       888  \n",
       "4              0       0        0        0         0             0         0  \n",
       "...          ...     ...      ...      ...       ...           ...       ...  \n",
       "5195         888     888      888      888       888             0       888  \n",
       "5196         888     888      888      888       888             0       888  \n",
       "5197           0       0        1        0         0             0         0  \n",
       "5198           0       0        0        0         0             0         0  \n",
       "5199           0       0        0        0         0             0         0  \n",
       "\n",
       "[5200 rows x 143 columns]"
      ]
     },
     "execution_count": 245,
     "metadata": {},
     "output_type": "execute_result"
    }
   ],
   "source": [
    "X_test"
   ]
  },
  {
   "cell_type": "code",
   "execution_count": 247,
   "id": "64039e64",
   "metadata": {},
   "outputs": [
    {
     "name": "stderr",
     "output_type": "stream",
     "text": [
      "C:\\Users\\latte\\AppData\\Local\\Temp\\ipykernel_7616\\1490491564.py:5: DataConversionWarning: A column-vector y was passed when a 1d array was expected. Please change the shape of y to (n_samples,), for example using ravel().\n",
      "  my_model.fit(train_X, train_y)\n"
     ]
    },
    {
     "name": "stdout",
     "output_type": "stream",
     "text": [
      "0.7761137079080416\n"
     ]
    }
   ],
   "source": [
    "train_X, val_X, train_y, val_y = train_test_split(X, y,test_size=0.5, random_state=1)\n",
    "\n",
    "my_model =RandomForestClassifier()\n",
    "\n",
    "my_model.fit(train_X, train_y)\n",
    "melb_preds = my_model.predict(val_X)\n",
    "print(accuracy_score(val_y, melb_preds))"
   ]
  },
  {
   "cell_type": "code",
   "execution_count": 249,
   "id": "62f5ea98",
   "metadata": {},
   "outputs": [],
   "source": [
    "result_1 = my_model.predict(X_test)"
   ]
  },
  {
   "cell_type": "code",
   "execution_count": 250,
   "id": "dd876bfa",
   "metadata": {},
   "outputs": [
    {
     "name": "stderr",
     "output_type": "stream",
     "text": [
      "C:\\Users\\latte\\AppData\\Local\\Temp\\ipykernel_7616\\2328463140.py:4: DataConversionWarning: A column-vector y was passed when a 1d array was expected. Please change the shape of y to (n_samples,), for example using ravel().\n",
      "  my_model.fit(train_X, train_y)\n"
     ]
    },
    {
     "name": "stdout",
     "output_type": "stream",
     "text": [
      "0.7744920347228846\n"
     ]
    }
   ],
   "source": [
    "import  xgboost as xgb\n",
    "\n",
    "xgb_model = xgb.XGBClassifier(objective=\"binary:logistic\",eval_metric=\"auc\")\n",
    "my_model.fit(train_X, train_y)\n",
    "melb_preds = my_model.predict(val_X)\n",
    "\n",
    "print(accuracy_score(val_y, melb_preds))"
   ]
  },
  {
   "cell_type": "code",
   "execution_count": null,
   "id": "83fdd88d",
   "metadata": {},
   "outputs": [],
   "source": []
  },
  {
   "cell_type": "markdown",
   "id": "3215c8d9",
   "metadata": {},
   "source": [
    "# Feature selection"
   ]
  },
  {
   "cell_type": "code",
   "execution_count": 310,
   "id": "b5649e97",
   "metadata": {},
   "outputs": [
    {
     "name": "stderr",
     "output_type": "stream",
     "text": [
      "C:\\Users\\latte\\AppData\\Local\\Temp\\ipykernel_7616\\1231234210.py:1: DtypeWarning: Columns (12,28,29,30,116,128) have mixed types. Specify dtype option on import or set low_memory=False.\n",
      "  train_data =pd.read_csv('train_data.csv',index_col=0)\n",
      "C:\\Users\\latte\\AppData\\Local\\Temp\\ipykernel_7616\\1231234210.py:3: DtypeWarning: Columns (12) have mixed types. Specify dtype option on import or set low_memory=False.\n",
      "  test_data =pd.read_csv('test_data.csv',index_col=0)\n"
     ]
    }
   ],
   "source": [
    "train_data =pd.read_csv('train_data.csv',index_col=0)\n",
    "train_target =pd.read_csv('train_target.csv',index_col=0)\n",
    "test_data =pd.read_csv('test_data.csv',index_col=0)\n",
    "data_description =pd.read_csv('data_description.csv')\n"
   ]
  },
  {
   "cell_type": "code",
   "execution_count": 311,
   "id": "4c81cd19",
   "metadata": {},
   "outputs": [],
   "source": [
    "nanval= [ len(train_data[(train_data.iloc[:,i] == 888)|(train_data.iloc[:,i] == '888')| (train_data.iloc[:,i]==999)| (train_data.iloc[:,i]=='999')])/train_data.shape[0]*100 for i in range(train_data.shape[1])]"
   ]
  },
  {
   "cell_type": "code",
   "execution_count": 312,
   "id": "d6a89ca9",
   "metadata": {},
   "outputs": [],
   "source": [
    "selected_noSenten=data_description['Type']!='ข้อความ'\n",
    "selected_c1=[i for i in range(143) if (i==3)|(i==6)|((selected_noSenten[i])&(nanval[i]<10))]"
   ]
  },
  {
   "cell_type": "code",
   "execution_count": 313,
   "id": "0919b701",
   "metadata": {
    "scrolled": true
   },
   "outputs": [
    {
     "data": {
      "text/plain": [
       "81"
      ]
     },
     "execution_count": 313,
     "metadata": {},
     "output_type": "execute_result"
    }
   ],
   "source": [
    "len(selected_c1)"
   ]
  },
  {
   "cell_type": "code",
   "execution_count": 314,
   "id": "d73b1830",
   "metadata": {},
   "outputs": [],
   "source": [
    "y=train_target\n",
    "X=train_data.iloc[:,selected_c1]\n",
    "X_test=test_data.iloc[:,selected_c1]"
   ]
  },
  {
   "cell_type": "code",
   "execution_count": 315,
   "id": "a3cecdda",
   "metadata": {},
   "outputs": [
    {
     "name": "stderr",
     "output_type": "stream",
     "text": [
      "C:\\Users\\latte\\AppData\\Local\\Temp\\ipykernel_7616\\1060041989.py:4: SettingWithCopyWarning: \n",
      "A value is trying to be set on a copy of a slice from a DataFrame.\n",
      "Try using .loc[row_indexer,col_indexer] = value instead\n",
      "\n",
      "See the caveats in the documentation: https://pandas.pydata.org/pandas-docs/stable/user_guide/indexing.html#returning-a-view-versus-a-copy\n",
      "  X[X_test.columns[i]]=X[X_test.columns[i]].astype(str)\n",
      "C:\\Users\\latte\\AppData\\Local\\Temp\\ipykernel_7616\\1060041989.py:5: SettingWithCopyWarning: \n",
      "A value is trying to be set on a copy of a slice from a DataFrame.\n",
      "Try using .loc[row_indexer,col_indexer] = value instead\n",
      "\n",
      "See the caveats in the documentation: https://pandas.pydata.org/pandas-docs/stable/user_guide/indexing.html#returning-a-view-versus-a-copy\n",
      "  X_test[X_test.columns[i]]=X_test[X_test.columns[i]].astype(str)\n",
      "C:\\Users\\latte\\AppData\\Local\\Temp\\ipykernel_7616\\1060041989.py:7: FutureWarning: The series.append method is deprecated and will be removed from pandas in a future version. Use pandas.concat instead.\n",
      "  le.fit(X[X_test.columns[i]].append(X_test[X_test.columns[i]]))\n",
      "C:\\Users\\latte\\AppData\\Local\\Temp\\ipykernel_7616\\1060041989.py:9: SettingWithCopyWarning: \n",
      "A value is trying to be set on a copy of a slice from a DataFrame.\n",
      "Try using .loc[row_indexer,col_indexer] = value instead\n",
      "\n",
      "See the caveats in the documentation: https://pandas.pydata.org/pandas-docs/stable/user_guide/indexing.html#returning-a-view-versus-a-copy\n",
      "  X[X_test.columns[i]] = le.transform(X[X_test.columns[i]])\n",
      "C:\\Users\\latte\\AppData\\Local\\Temp\\ipykernel_7616\\1060041989.py:10: SettingWithCopyWarning: \n",
      "A value is trying to be set on a copy of a slice from a DataFrame.\n",
      "Try using .loc[row_indexer,col_indexer] = value instead\n",
      "\n",
      "See the caveats in the documentation: https://pandas.pydata.org/pandas-docs/stable/user_guide/indexing.html#returning-a-view-versus-a-copy\n",
      "  X_test[X_test.columns[i]] = le.transform(X_test[X_test.columns[i]])\n",
      "C:\\Users\\latte\\AppData\\Local\\Temp\\ipykernel_7616\\1060041989.py:4: SettingWithCopyWarning: \n",
      "A value is trying to be set on a copy of a slice from a DataFrame.\n",
      "Try using .loc[row_indexer,col_indexer] = value instead\n",
      "\n",
      "See the caveats in the documentation: https://pandas.pydata.org/pandas-docs/stable/user_guide/indexing.html#returning-a-view-versus-a-copy\n",
      "  X[X_test.columns[i]]=X[X_test.columns[i]].astype(str)\n",
      "C:\\Users\\latte\\AppData\\Local\\Temp\\ipykernel_7616\\1060041989.py:5: SettingWithCopyWarning: \n",
      "A value is trying to be set on a copy of a slice from a DataFrame.\n",
      "Try using .loc[row_indexer,col_indexer] = value instead\n",
      "\n",
      "See the caveats in the documentation: https://pandas.pydata.org/pandas-docs/stable/user_guide/indexing.html#returning-a-view-versus-a-copy\n",
      "  X_test[X_test.columns[i]]=X_test[X_test.columns[i]].astype(str)\n",
      "C:\\Users\\latte\\AppData\\Local\\Temp\\ipykernel_7616\\1060041989.py:7: FutureWarning: The series.append method is deprecated and will be removed from pandas in a future version. Use pandas.concat instead.\n",
      "  le.fit(X[X_test.columns[i]].append(X_test[X_test.columns[i]]))\n",
      "C:\\Users\\latte\\AppData\\Local\\Temp\\ipykernel_7616\\1060041989.py:9: SettingWithCopyWarning: \n",
      "A value is trying to be set on a copy of a slice from a DataFrame.\n",
      "Try using .loc[row_indexer,col_indexer] = value instead\n",
      "\n",
      "See the caveats in the documentation: https://pandas.pydata.org/pandas-docs/stable/user_guide/indexing.html#returning-a-view-versus-a-copy\n",
      "  X[X_test.columns[i]] = le.transform(X[X_test.columns[i]])\n",
      "C:\\Users\\latte\\AppData\\Local\\Temp\\ipykernel_7616\\1060041989.py:10: SettingWithCopyWarning: \n",
      "A value is trying to be set on a copy of a slice from a DataFrame.\n",
      "Try using .loc[row_indexer,col_indexer] = value instead\n",
      "\n",
      "See the caveats in the documentation: https://pandas.pydata.org/pandas-docs/stable/user_guide/indexing.html#returning-a-view-versus-a-copy\n",
      "  X_test[X_test.columns[i]] = le.transform(X_test[X_test.columns[i]])\n",
      "C:\\Users\\latte\\AppData\\Local\\Temp\\ipykernel_7616\\1060041989.py:4: SettingWithCopyWarning: \n",
      "A value is trying to be set on a copy of a slice from a DataFrame.\n",
      "Try using .loc[row_indexer,col_indexer] = value instead\n",
      "\n",
      "See the caveats in the documentation: https://pandas.pydata.org/pandas-docs/stable/user_guide/indexing.html#returning-a-view-versus-a-copy\n",
      "  X[X_test.columns[i]]=X[X_test.columns[i]].astype(str)\n",
      "C:\\Users\\latte\\AppData\\Local\\Temp\\ipykernel_7616\\1060041989.py:5: SettingWithCopyWarning: \n",
      "A value is trying to be set on a copy of a slice from a DataFrame.\n",
      "Try using .loc[row_indexer,col_indexer] = value instead\n",
      "\n",
      "See the caveats in the documentation: https://pandas.pydata.org/pandas-docs/stable/user_guide/indexing.html#returning-a-view-versus-a-copy\n",
      "  X_test[X_test.columns[i]]=X_test[X_test.columns[i]].astype(str)\n",
      "C:\\Users\\latte\\AppData\\Local\\Temp\\ipykernel_7616\\1060041989.py:7: FutureWarning: The series.append method is deprecated and will be removed from pandas in a future version. Use pandas.concat instead.\n",
      "  le.fit(X[X_test.columns[i]].append(X_test[X_test.columns[i]]))\n",
      "C:\\Users\\latte\\AppData\\Local\\Temp\\ipykernel_7616\\1060041989.py:9: SettingWithCopyWarning: \n",
      "A value is trying to be set on a copy of a slice from a DataFrame.\n",
      "Try using .loc[row_indexer,col_indexer] = value instead\n",
      "\n",
      "See the caveats in the documentation: https://pandas.pydata.org/pandas-docs/stable/user_guide/indexing.html#returning-a-view-versus-a-copy\n",
      "  X[X_test.columns[i]] = le.transform(X[X_test.columns[i]])\n",
      "C:\\Users\\latte\\AppData\\Local\\Temp\\ipykernel_7616\\1060041989.py:10: SettingWithCopyWarning: \n",
      "A value is trying to be set on a copy of a slice from a DataFrame.\n",
      "Try using .loc[row_indexer,col_indexer] = value instead\n",
      "\n",
      "See the caveats in the documentation: https://pandas.pydata.org/pandas-docs/stable/user_guide/indexing.html#returning-a-view-versus-a-copy\n",
      "  X_test[X_test.columns[i]] = le.transform(X_test[X_test.columns[i]])\n",
      "C:\\Users\\latte\\AppData\\Local\\Temp\\ipykernel_7616\\1060041989.py:4: SettingWithCopyWarning: \n",
      "A value is trying to be set on a copy of a slice from a DataFrame.\n",
      "Try using .loc[row_indexer,col_indexer] = value instead\n",
      "\n",
      "See the caveats in the documentation: https://pandas.pydata.org/pandas-docs/stable/user_guide/indexing.html#returning-a-view-versus-a-copy\n",
      "  X[X_test.columns[i]]=X[X_test.columns[i]].astype(str)\n",
      "C:\\Users\\latte\\AppData\\Local\\Temp\\ipykernel_7616\\1060041989.py:5: SettingWithCopyWarning: \n",
      "A value is trying to be set on a copy of a slice from a DataFrame.\n",
      "Try using .loc[row_indexer,col_indexer] = value instead\n",
      "\n",
      "See the caveats in the documentation: https://pandas.pydata.org/pandas-docs/stable/user_guide/indexing.html#returning-a-view-versus-a-copy\n",
      "  X_test[X_test.columns[i]]=X_test[X_test.columns[i]].astype(str)\n",
      "C:\\Users\\latte\\AppData\\Local\\Temp\\ipykernel_7616\\1060041989.py:7: FutureWarning: The series.append method is deprecated and will be removed from pandas in a future version. Use pandas.concat instead.\n",
      "  le.fit(X[X_test.columns[i]].append(X_test[X_test.columns[i]]))\n",
      "C:\\Users\\latte\\AppData\\Local\\Temp\\ipykernel_7616\\1060041989.py:9: SettingWithCopyWarning: \n",
      "A value is trying to be set on a copy of a slice from a DataFrame.\n",
      "Try using .loc[row_indexer,col_indexer] = value instead\n",
      "\n",
      "See the caveats in the documentation: https://pandas.pydata.org/pandas-docs/stable/user_guide/indexing.html#returning-a-view-versus-a-copy\n",
      "  X[X_test.columns[i]] = le.transform(X[X_test.columns[i]])\n",
      "C:\\Users\\latte\\AppData\\Local\\Temp\\ipykernel_7616\\1060041989.py:10: SettingWithCopyWarning: \n",
      "A value is trying to be set on a copy of a slice from a DataFrame.\n",
      "Try using .loc[row_indexer,col_indexer] = value instead\n",
      "\n",
      "See the caveats in the documentation: https://pandas.pydata.org/pandas-docs/stable/user_guide/indexing.html#returning-a-view-versus-a-copy\n",
      "  X_test[X_test.columns[i]] = le.transform(X_test[X_test.columns[i]])\n"
     ]
    }
   ],
   "source": [
    "for i in range(len(selected_c1)):\n",
    "    if X[X_test.columns[i]].dtypes=='O':\n",
    "        \n",
    "        X[X_test.columns[i]]=X[X_test.columns[i]].astype(str)\n",
    "        X_test[X_test.columns[i]]=X_test[X_test.columns[i]].astype(str)\n",
    "        le = preprocessing.LabelEncoder()\n",
    "        le.fit(X[X_test.columns[i]].append(X_test[X_test.columns[i]]))\n",
    "        \n",
    "        X[X_test.columns[i]] = le.transform(X[X_test.columns[i]])\n",
    "        X_test[X_test.columns[i]] = le.transform(X_test[X_test.columns[i]])"
   ]
  },
  {
   "cell_type": "code",
   "execution_count": 320,
   "id": "7f0e6528",
   "metadata": {},
   "outputs": [
    {
     "name": "stderr",
     "output_type": "stream",
     "text": [
      "C:\\Users\\latte\\AppData\\Local\\Temp\\ipykernel_7616\\2134443375.py:5: DataConversionWarning: A column-vector y was passed when a 1d array was expected. Please change the shape of y to (n_samples,), for example using ravel().\n",
      "  my_model.fit(train_X, train_y)\n"
     ]
    },
    {
     "name": "stdout",
     "output_type": "stream",
     "text": [
      "0.7802861685214626\n"
     ]
    }
   ],
   "source": [
    "train_X, val_X, train_y, val_y = train_test_split(X, y,test_size=0.3, random_state=1)\n",
    "\n",
    "my_model =RandomForestClassifier()\n",
    "\n",
    "my_model.fit(train_X, train_y)\n",
    "melb_preds = my_model.predict(val_X)\n",
    "print(accuracy_score(val_y, melb_preds))"
   ]
  },
  {
   "cell_type": "code",
   "execution_count": 317,
   "id": "720642f8",
   "metadata": {},
   "outputs": [
    {
     "name": "stderr",
     "output_type": "stream",
     "text": [
      "C:\\Users\\latte\\AppData\\Local\\Temp\\ipykernel_7616\\2328463140.py:4: DataConversionWarning: A column-vector y was passed when a 1d array was expected. Please change the shape of y to (n_samples,), for example using ravel().\n",
      "  my_model.fit(train_X, train_y)\n"
     ]
    },
    {
     "name": "stdout",
     "output_type": "stream",
     "text": [
      "0.7750643899647047\n"
     ]
    }
   ],
   "source": [
    "import  xgboost as xgb\n",
    "\n",
    "xgb_model = xgb.XGBClassifier(objective=\"binary:logistic\",eval_metric=\"auc\")\n",
    "my_model.fit(train_X, train_y)\n",
    "melb_preds = my_model.predict(val_X)\n",
    "\n",
    "print(accuracy_score(val_y, melb_preds))"
   ]
  },
  {
   "cell_type": "code",
   "execution_count": 323,
   "id": "30148bea",
   "metadata": {},
   "outputs": [],
   "source": [
    "result_2 = my_model.predict(X_test)"
   ]
  },
  {
   "cell_type": "code",
   "execution_count": 325,
   "id": "562144f3",
   "metadata": {},
   "outputs": [
    {
     "data": {
      "text/plain": [
       "452"
      ]
     },
     "execution_count": 325,
     "metadata": {},
     "output_type": "execute_result"
    }
   ],
   "source": [
    "sum(abs(result_1-result_2)) "
   ]
  },
  {
   "cell_type": "code",
   "execution_count": 326,
   "id": "7f1cba49",
   "metadata": {},
   "outputs": [
    {
     "data": {
      "text/plain": [
       "array([0, 1, 1, ..., 0, 1, 1], dtype=int64)"
      ]
     },
     "execution_count": 326,
     "metadata": {},
     "output_type": "execute_result"
    }
   ],
   "source": [
    "result_2"
   ]
  },
  {
   "cell_type": "code",
   "execution_count": 328,
   "id": "23976da4",
   "metadata": {},
   "outputs": [
    {
     "name": "stdout",
     "output_type": "stream",
     "text": [
      " Volume in drive C has no label.\n",
      " Volume Serial Number is 1E14-EFD0\n",
      "\n",
      " Directory of C:\\Users\\latte\\Documents\\code\\hackathon2\n",
      "\n",
      "11/27/2022  03:30 AM    <DIR>          .\n",
      "11/27/2022  03:30 AM    <DIR>          ..\n",
      "11/27/2022  01:44 AM    <DIR>          .ipynb_checkpoints\n",
      "11/25/2022  01:36 PM            25,214 data_description.csv\n",
      "11/26/2022  10:03 PM         2,197,681 hackathon-online-data-science-and-big-data.zip\n",
      "11/25/2022  01:36 PM            27,923 occupation.csv\n",
      "11/25/2022  01:36 PM            35,307 sample_submission.csv\n",
      "11/25/2022  01:36 PM         3,124,286 test_data.csv\n",
      "11/25/2022  01:36 PM        12,784,969 train_data.csv\n",
      "11/25/2022  01:36 PM           156,625 train_target.csv\n",
      "11/25/2022  01:36 PM             3,583 type.csv\n",
      "11/27/2022  02:33 AM            48,805 Untitled.ipynb\n",
      "11/27/2022  03:30 AM            45,677 Untitled1.ipynb\n",
      "              10 File(s)     18,450,070 bytes\n",
      "               3 Dir(s)  49,225,117,696 bytes free\n"
     ]
    }
   ],
   "source": [
    "ls"
   ]
  },
  {
   "cell_type": "code",
   "execution_count": 362,
   "id": "3da0292e",
   "metadata": {},
   "outputs": [],
   "source": [
    "a=pd.read_csv('sample_submission.csv')"
   ]
  },
  {
   "cell_type": "code",
   "execution_count": 334,
   "id": "7ab616bf",
   "metadata": {},
   "outputs": [],
   "source": [
    "submiss['Predicted']=result_1"
   ]
  },
  {
   "cell_type": "code",
   "execution_count": 356,
   "id": "f3d05198",
   "metadata": {},
   "outputs": [],
   "source": [
    "submiss=pd.read_csv('sample_submission.csv')"
   ]
  },
  {
   "cell_type": "code",
   "execution_count": 361,
   "id": "ce0d647a",
   "metadata": {},
   "outputs": [
    {
     "ename": "TypeError",
     "evalue": "DataFrame.__init__() got an unexpected keyword argument 'columns_name'",
     "output_type": "error",
     "traceback": [
      "\u001b[1;31m---------------------------------------------------------------------------\u001b[0m",
      "\u001b[1;31mTypeError\u001b[0m                                 Traceback (most recent call last)",
      "Cell \u001b[1;32mIn [361], line 1\u001b[0m\n\u001b[1;32m----> 1\u001b[0m \u001b[43mpd\u001b[49m\u001b[38;5;241;43m.\u001b[39;49m\u001b[43mDataFrame\u001b[49m\u001b[43m(\u001b[49m\u001b[43mdata\u001b[49m\u001b[38;5;241;43m=\u001b[39;49m\u001b[43mresult_1\u001b[49m\u001b[43m,\u001b[49m\u001b[43m \u001b[49m\u001b[43mcolumns_name\u001b[49m\u001b[38;5;241;43m=\u001b[39;49m\u001b[38;5;124;43m'\u001b[39;49m\u001b[38;5;124;43mPredicted\u001b[39;49m\u001b[38;5;124;43m'\u001b[39;49m\u001b[43m)\u001b[49m\n",
      "\u001b[1;31mTypeError\u001b[0m: DataFrame.__init__() got an unexpected keyword argument 'columns_name'"
     ]
    }
   ],
   "source": [
    "pd.DataFrame(data=result_1, columns_name='Predicted')"
   ]
  },
  {
   "cell_type": "code",
   "execution_count": 367,
   "id": "fde237d0",
   "metadata": {},
   "outputs": [
    {
     "name": "stderr",
     "output_type": "stream",
     "text": [
      "C:\\Users\\latte\\AppData\\Local\\Temp\\ipykernel_7616\\2439893912.py:1: FutureWarning: In a future version, `df.iloc[:, i] = newvals` will attempt to set the values inplace instead of always setting a new array. To retain the old behavior, use either `df[df.columns[i]] = newvals` or, if columns are non-unique, `df.isetitem(i, newvals)`\n",
      "  a.iloc[:,1]=result_2\n"
     ]
    }
   ],
   "source": [
    "a.iloc[:,1]=result_2"
   ]
  },
  {
   "cell_type": "code",
   "execution_count": 393,
   "id": "5c5d0883",
   "metadata": {},
   "outputs": [
    {
     "data": {
      "text/html": [
       "<div>\n",
       "<style scoped>\n",
       "    .dataframe tbody tr th:only-of-type {\n",
       "        vertical-align: middle;\n",
       "    }\n",
       "\n",
       "    .dataframe tbody tr th {\n",
       "        vertical-align: top;\n",
       "    }\n",
       "\n",
       "    .dataframe thead th {\n",
       "        text-align: right;\n",
       "    }\n",
       "</style>\n",
       "<table border=\"1\" class=\"dataframe\">\n",
       "  <thead>\n",
       "    <tr style=\"text-align: right;\">\n",
       "      <th></th>\n",
       "      <th>Id</th>\n",
       "      <th>Predicted</th>\n",
       "    </tr>\n",
       "  </thead>\n",
       "  <tbody>\n",
       "    <tr>\n",
       "      <th>0</th>\n",
       "      <td>0</td>\n",
       "      <td>0</td>\n",
       "    </tr>\n",
       "    <tr>\n",
       "      <th>1</th>\n",
       "      <td>1</td>\n",
       "      <td>1</td>\n",
       "    </tr>\n",
       "    <tr>\n",
       "      <th>2</th>\n",
       "      <td>2</td>\n",
       "      <td>1</td>\n",
       "    </tr>\n",
       "    <tr>\n",
       "      <th>3</th>\n",
       "      <td>3</td>\n",
       "      <td>0</td>\n",
       "    </tr>\n",
       "    <tr>\n",
       "      <th>4</th>\n",
       "      <td>4</td>\n",
       "      <td>0</td>\n",
       "    </tr>\n",
       "    <tr>\n",
       "      <th>...</th>\n",
       "      <td>...</td>\n",
       "      <td>...</td>\n",
       "    </tr>\n",
       "    <tr>\n",
       "      <th>5195</th>\n",
       "      <td>5195</td>\n",
       "      <td>1</td>\n",
       "    </tr>\n",
       "    <tr>\n",
       "      <th>5196</th>\n",
       "      <td>5196</td>\n",
       "      <td>1</td>\n",
       "    </tr>\n",
       "    <tr>\n",
       "      <th>5197</th>\n",
       "      <td>5197</td>\n",
       "      <td>0</td>\n",
       "    </tr>\n",
       "    <tr>\n",
       "      <th>5198</th>\n",
       "      <td>5198</td>\n",
       "      <td>1</td>\n",
       "    </tr>\n",
       "    <tr>\n",
       "      <th>5199</th>\n",
       "      <td>5199</td>\n",
       "      <td>1</td>\n",
       "    </tr>\n",
       "  </tbody>\n",
       "</table>\n",
       "<p>5200 rows × 2 columns</p>\n",
       "</div>"
      ],
      "text/plain": [
       "        Id  Predicted\n",
       "0        0          0\n",
       "1        1          1\n",
       "2        2          1\n",
       "3        3          0\n",
       "4        4          0\n",
       "...    ...        ...\n",
       "5195  5195          1\n",
       "5196  5196          1\n",
       "5197  5197          0\n",
       "5198  5198          1\n",
       "5199  5199          1\n",
       "\n",
       "[5200 rows x 2 columns]"
      ]
     },
     "execution_count": 393,
     "metadata": {},
     "output_type": "execute_result"
    }
   ],
   "source": [
    "pd.read_csv(\"anne.csv\")"
   ]
  },
  {
   "cell_type": "code",
   "execution_count": 391,
   "id": "4d1e4d8c",
   "metadata": {},
   "outputs": [
    {
     "data": {
      "text/html": [
       "<div>\n",
       "<style scoped>\n",
       "    .dataframe tbody tr th:only-of-type {\n",
       "        vertical-align: middle;\n",
       "    }\n",
       "\n",
       "    .dataframe tbody tr th {\n",
       "        vertical-align: top;\n",
       "    }\n",
       "\n",
       "    .dataframe thead th {\n",
       "        text-align: right;\n",
       "    }\n",
       "</style>\n",
       "<table border=\"1\" class=\"dataframe\">\n",
       "  <thead>\n",
       "    <tr style=\"text-align: right;\">\n",
       "      <th></th>\n",
       "      <th>Id</th>\n",
       "      <th>Predicted</th>\n",
       "    </tr>\n",
       "  </thead>\n",
       "  <tbody>\n",
       "    <tr>\n",
       "      <th>0</th>\n",
       "      <td>0</td>\n",
       "      <td>0</td>\n",
       "    </tr>\n",
       "    <tr>\n",
       "      <th>1</th>\n",
       "      <td>1</td>\n",
       "      <td>1</td>\n",
       "    </tr>\n",
       "    <tr>\n",
       "      <th>2</th>\n",
       "      <td>2</td>\n",
       "      <td>1</td>\n",
       "    </tr>\n",
       "    <tr>\n",
       "      <th>3</th>\n",
       "      <td>3</td>\n",
       "      <td>0</td>\n",
       "    </tr>\n",
       "    <tr>\n",
       "      <th>4</th>\n",
       "      <td>4</td>\n",
       "      <td>0</td>\n",
       "    </tr>\n",
       "    <tr>\n",
       "      <th>...</th>\n",
       "      <td>...</td>\n",
       "      <td>...</td>\n",
       "    </tr>\n",
       "    <tr>\n",
       "      <th>5195</th>\n",
       "      <td>5195</td>\n",
       "      <td>1</td>\n",
       "    </tr>\n",
       "    <tr>\n",
       "      <th>5196</th>\n",
       "      <td>5196</td>\n",
       "      <td>1</td>\n",
       "    </tr>\n",
       "    <tr>\n",
       "      <th>5197</th>\n",
       "      <td>5197</td>\n",
       "      <td>0</td>\n",
       "    </tr>\n",
       "    <tr>\n",
       "      <th>5198</th>\n",
       "      <td>5198</td>\n",
       "      <td>1</td>\n",
       "    </tr>\n",
       "    <tr>\n",
       "      <th>5199</th>\n",
       "      <td>5199</td>\n",
       "      <td>1</td>\n",
       "    </tr>\n",
       "  </tbody>\n",
       "</table>\n",
       "<p>5200 rows × 2 columns</p>\n",
       "</div>"
      ],
      "text/plain": [
       "        Id  Predicted\n",
       "0        0          0\n",
       "1        1          1\n",
       "2        2          1\n",
       "3        3          0\n",
       "4        4          0\n",
       "...    ...        ...\n",
       "5195  5195          1\n",
       "5196  5196          1\n",
       "5197  5197          0\n",
       "5198  5198          1\n",
       "5199  5199          1\n",
       "\n",
       "[5200 rows x 2 columns]"
      ]
     },
     "execution_count": 391,
     "metadata": {},
     "output_type": "execute_result"
    }
   ],
   "source": [
    "pd.read_csv(\"art.csv\")"
   ]
  },
  {
   "cell_type": "code",
   "execution_count": 373,
   "id": "b06c5290",
   "metadata": {},
   "outputs": [],
   "source": [
    "a=pd.DataFrame(result_2)"
   ]
  },
  {
   "cell_type": "code",
   "execution_count": 374,
   "id": "74dd9848",
   "metadata": {},
   "outputs": [],
   "source": [
    "a.index.name=\"Id\""
   ]
  },
  {
   "cell_type": "code",
   "execution_count": 387,
   "id": "34eccfeb",
   "metadata": {},
   "outputs": [],
   "source": [
    "a.columns = ['Predicted']"
   ]
  },
  {
   "cell_type": "code",
   "execution_count": 389,
   "id": "33ebeda6",
   "metadata": {},
   "outputs": [],
   "source": [
    "a.to_csv(\"art.csv\")"
   ]
  },
  {
   "cell_type": "code",
   "execution_count": 392,
   "id": "d14a4a0a",
   "metadata": {},
   "outputs": [],
   "source": [
    "b=pd.DataFrame(result_1)\n",
    "b.index.name=\"Id\"\n",
    "b.columns = ['Predicted']\n",
    "b.to_csv(\"anne.csv\")"
   ]
  },
  {
   "cell_type": "code",
   "execution_count": 394,
   "id": "1317bd8c",
   "metadata": {},
   "outputs": [
    {
     "data": {
      "text/plain": [
       "-10"
      ]
     },
     "execution_count": 394,
     "metadata": {},
     "output_type": "execute_result"
    }
   ],
   "source": [
    "sum(result_1-result_2)"
   ]
  },
  {
   "cell_type": "code",
   "execution_count": null,
   "id": "5b56c8c1",
   "metadata": {},
   "outputs": [],
   "source": []
  }
 ],
 "metadata": {
  "kernelspec": {
   "display_name": "Python 3 (ipykernel)",
   "language": "python",
   "name": "python3"
  },
  "language_info": {
   "codemirror_mode": {
    "name": "ipython",
    "version": 3
   },
   "file_extension": ".py",
   "mimetype": "text/x-python",
   "name": "python",
   "nbconvert_exporter": "python",
   "pygments_lexer": "ipython3",
   "version": "3.10.8"
  }
 },
 "nbformat": 4,
 "nbformat_minor": 5
}
