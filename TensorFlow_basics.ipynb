{
 "cells": [
  {
   "cell_type": "markdown",
   "id": "e25b4bc0",
   "metadata": {},
   "source": [
    "# Tensor flow"
   ]
  },
  {
   "cell_type": "code",
   "execution_count": 1,
   "id": "12915983",
   "metadata": {},
   "outputs": [],
   "source": [
    "import tensorflow as tf\n",
    "import numpy as np"
   ]
  },
  {
   "cell_type": "code",
   "execution_count": 12,
   "id": "a11469a9",
   "metadata": {},
   "outputs": [
    {
     "name": "stdout",
     "output_type": "stream",
     "text": [
      "tf.Tensor([1 2 3], shape=(3,), dtype=int32)\n",
      "<tf.Variable 'Variable:0' shape=(3,) dtype=int32, numpy=array([1, 2, 3])>\n"
     ]
    }
   ],
   "source": [
    "A = tf.constant([1,2,3])\n",
    "B = tf.Variable([1,2,3])\n",
    "print(A)\n",
    "print(B)"
   ]
  },
  {
   "cell_type": "code",
   "execution_count": 9,
   "id": "5c960d6f",
   "metadata": {},
   "outputs": [
    {
     "name": "stdout",
     "output_type": "stream",
     "text": [
      "[1 2 3]\n"
     ]
    }
   ],
   "source": [
    "C = A.numpy()\n",
    "print(C)"
   ]
  },
  {
   "cell_type": "code",
   "execution_count": 6,
   "id": "10bb1ecc",
   "metadata": {},
   "outputs": [
    {
     "name": "stdout",
     "output_type": "stream",
     "text": [
      "tf.Tensor(\n",
      "[[1. 1. 1.]\n",
      " [1. 1. 1.]], shape=(2, 3), dtype=float32)\n"
     ]
    }
   ],
   "source": [
    "D = tf.ones((2,3), dtype =tf.float32)\n",
    "print(D)"
   ]
  },
  {
   "cell_type": "code",
   "execution_count": 7,
   "id": "2051a5ac",
   "metadata": {},
   "outputs": [
    {
     "name": "stdout",
     "output_type": "stream",
     "text": [
      "tf.Tensor(\n",
      "[[1. 0. 0.]\n",
      " [0. 1. 0.]\n",
      " [0. 0. 1.]], shape=(3, 3), dtype=float32)\n"
     ]
    }
   ],
   "source": [
    "E = tf.eye(3)\n",
    "print(E)"
   ]
  },
  {
   "cell_type": "code",
   "execution_count": 15,
   "id": "f1aa5eeb",
   "metadata": {},
   "outputs": [
    {
     "name": "stdout",
     "output_type": "stream",
     "text": [
      "tf.Tensor([1. 2. 3.], shape=(3,), dtype=float64)\n"
     ]
    }
   ],
   "source": [
    "F = tf.cast(A, tf.float64)  #change data type\n",
    "print(F)"
   ]
  },
  {
   "cell_type": "code",
   "execution_count": 23,
   "id": "8ea624f7",
   "metadata": {},
   "outputs": [
    {
     "name": "stdout",
     "output_type": "stream",
     "text": [
      "tf.Tensor(\n",
      "[[ 1.  4.]\n",
      " [ 9. 16.]], shape=(2, 2), dtype=float32)\n",
      "tf.Tensor(\n",
      "[[ 7. 10.]\n",
      " [15. 22.]], shape=(2, 2), dtype=float32)\n"
     ]
    }
   ],
   "source": [
    "A = tf.constant([[1,2],[3,4]],dtype=tf.float32)\n",
    "print(A * A)  # element wise\n",
    "print(A @ A)  # matrix multiplication "
   ]
  },
  {
   "cell_type": "code",
   "execution_count": 26,
   "id": "a424b0c7",
   "metadata": {},
   "outputs": [
    {
     "name": "stdout",
     "output_type": "stream",
     "text": [
      "tf.Tensor(-2.0, shape=(), dtype=float32)\n",
      "tf.Tensor([-0.37228122+0.j  5.372281  +0.j], shape=(2,), dtype=complex64) tf.Tensor(\n",
      "[[-0.8245648 +0.j -0.41597357+0.j]\n",
      " [ 0.56576747+0.j -0.90937674+0.j]], shape=(2, 2), dtype=complex64)\n"
     ]
    }
   ],
   "source": [
    "print(tf.linalg.det(A))\n",
    "vl,vt = tf.linalg.eig(A)\n",
    "print(vl,vt)"
   ]
  },
  {
   "cell_type": "markdown",
   "id": "c2b3db02",
   "metadata": {},
   "source": [
    "# AutoDifferentiation "
   ]
  },
  {
   "cell_type": "code",
   "execution_count": 27,
   "id": "16d3060d",
   "metadata": {},
   "outputs": [
    {
     "name": "stdout",
     "output_type": "stream",
     "text": [
      "tf.Tensor(4.0, shape=(), dtype=float32)\n"
     ]
    }
   ],
   "source": [
    "x = tf.Variable(1.0) \n",
    "\n",
    "with tf.GradientTape() as t:\n",
    "     y = x**2 + 2*x + 1\n",
    "        \n",
    "dy_dx = t.gradient(y,x) \n",
    "print(dy_dx)"
   ]
  },
  {
   "cell_type": "code",
   "execution_count": 29,
   "id": "0751de44",
   "metadata": {},
   "outputs": [
    {
     "name": "stdout",
     "output_type": "stream",
     "text": [
      "None\n"
     ]
    }
   ],
   "source": [
    "x = tf.constant(1.0)  \n",
    "\n",
    "with tf.GradientTape() as t:\n",
    "     y = x**2 + 2*x + 1\n",
    "        \n",
    "dy_dx = t.gradient(y,x) \n",
    "print(dy_dx)"
   ]
  },
  {
   "cell_type": "code",
   "execution_count": 31,
   "id": "2725d37f",
   "metadata": {},
   "outputs": [
    {
     "name": "stdout",
     "output_type": "stream",
     "text": [
      "tf.Tensor(4.0, shape=(), dtype=float32)\n"
     ]
    }
   ],
   "source": [
    "x = tf.constant(1.0)\n",
    "\n",
    "with tf.GradientTape() as t:\n",
    "    t.watch(x)  #if want to diff respect to \"constant\" \n",
    "    y = x**2 + 2*x + 1\n",
    "        \n",
    "dy_dx = t.gradient(y,x) \n",
    "print(dy_dx)"
   ]
  },
  {
   "cell_type": "code",
   "execution_count": 33,
   "id": "57a694e2",
   "metadata": {},
   "outputs": [
    {
     "name": "stdout",
     "output_type": "stream",
     "text": [
      "tf.Tensor(2.0, shape=(), dtype=float32)\n",
      "tf.Tensor(4.0, shape=(), dtype=float32)\n"
     ]
    }
   ],
   "source": [
    "# second derivative\n",
    "x = tf.Variable(1.0) \n",
    "\n",
    "with tf.GradientTape(persistent=True) as t:\n",
    "    y = x**2\n",
    "    z = y**2\n",
    "        \n",
    "dy_dx = t.gradient(y,x) \n",
    "print(dy_dx)\n",
    "dz_dx = t.gradient(z,x) \n",
    "print(dz_dx)"
   ]
  },
  {
   "cell_type": "code",
   "execution_count": 36,
   "id": "49f1ff26",
   "metadata": {},
   "outputs": [],
   "source": [
    "def f(x):\n",
    "    if x < -3:\n",
    "        return 0.1*x\n",
    "    if -3<=x<=2:\n",
    "        return 0.5*x+1.2\n",
    "    if x>2:\n",
    "        return 0.1*x+2\n",
    "    \n",
    "def df(x):\n",
    "    with tf.GradientTape() as t:\n",
    "        y = f(x)\n",
    "    return t.gradient(y,x)"
   ]
  },
  {
   "cell_type": "code",
   "execution_count": 42,
   "id": "c37b8b83",
   "metadata": {},
   "outputs": [
    {
     "name": "stdout",
     "output_type": "stream",
     "text": [
      "0.1\n",
      "0.5\n",
      "0.5\n",
      "0.1\n"
     ]
    }
   ],
   "source": [
    "print(df(tf.Variable(-4.)).numpy())\n",
    "print(df(tf.Variable(1.)).numpy())\n",
    "print(df(tf.Variable(2.)).numpy())\n",
    "print(df(tf.Variable(3.)).numpy())"
   ]
  },
  {
   "cell_type": "code",
   "execution_count": null,
   "id": "684e7c4c",
   "metadata": {},
   "outputs": [],
   "source": [
    "'''\n",
    "for unconected function\n",
    "we can give the value to be zero\n",
    "'''\n",
    "t.gradient(y,x, unconnected_gradients=tf.UnconnectedGradients.ZERO)"
   ]
  }
 ],
 "metadata": {
  "kernelspec": {
   "display_name": "Python 3 (ipykernel)",
   "language": "python",
   "name": "python3"
  },
  "language_info": {
   "codemirror_mode": {
    "name": "ipython",
    "version": 3
   },
   "file_extension": ".py",
   "mimetype": "text/x-python",
   "name": "python",
   "nbconvert_exporter": "python",
   "pygments_lexer": "ipython3",
   "version": "3.10.9"
  }
 },
 "nbformat": 4,
 "nbformat_minor": 5
}
